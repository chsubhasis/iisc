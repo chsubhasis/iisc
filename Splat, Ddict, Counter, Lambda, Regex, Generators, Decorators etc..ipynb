{
 "cells": [
  {
   "cell_type": "code",
   "execution_count": 1,
   "id": "4c484d1f",
   "metadata": {},
   "outputs": [],
   "source": [
    "s = \"Hello there! Python is intersting!\""
   ]
  },
  {
   "cell_type": "code",
   "execution_count": 2,
   "id": "cd7b45d0",
   "metadata": {},
   "outputs": [
    {
     "data": {
      "text/plain": [
       "['Hello', 'there!', 'Python', 'is', 'intersting!']"
      ]
     },
     "execution_count": 2,
     "metadata": {},
     "output_type": "execute_result"
    }
   ],
   "source": [
    "s.split() #split returns a list"
   ]
  },
  {
   "cell_type": "code",
   "execution_count": 4,
   "id": "6b53ca3b",
   "metadata": {},
   "outputs": [],
   "source": [
    "a = s.split()"
   ]
  },
  {
   "cell_type": "code",
   "execution_count": 5,
   "id": "6fb84947",
   "metadata": {},
   "outputs": [
    {
     "data": {
      "text/plain": [
       "'there!'"
      ]
     },
     "execution_count": 5,
     "metadata": {},
     "output_type": "execute_result"
    }
   ],
   "source": [
    "a[1]"
   ]
  },
  {
   "cell_type": "code",
   "execution_count": 6,
   "id": "cf306da4",
   "metadata": {},
   "outputs": [],
   "source": [
    "p, q, x, y, z = s.split()"
   ]
  },
  {
   "cell_type": "code",
   "execution_count": 7,
   "id": "f67c6ce3",
   "metadata": {},
   "outputs": [
    {
     "data": {
      "text/plain": [
       "'Python'"
      ]
     },
     "execution_count": 7,
     "metadata": {},
     "output_type": "execute_result"
    }
   ],
   "source": [
    "x"
   ]
  },
  {
   "cell_type": "code",
   "execution_count": 8,
   "id": "9aa32c11",
   "metadata": {},
   "outputs": [
    {
     "ename": "ValueError",
     "evalue": "too many values to unpack (expected 2)",
     "output_type": "error",
     "traceback": [
      "\u001b[1;31m---------------------------------------------------------------------------\u001b[0m",
      "\u001b[1;31mValueError\u001b[0m                                Traceback (most recent call last)",
      "Cell \u001b[1;32mIn[8], line 1\u001b[0m\n\u001b[1;32m----> 1\u001b[0m m, n \u001b[38;5;241m=\u001b[39m s\u001b[38;5;241m.\u001b[39msplit()\n",
      "\u001b[1;31mValueError\u001b[0m: too many values to unpack (expected 2)"
     ]
    }
   ],
   "source": [
    "m, n = s.split()"
   ]
  },
  {
   "cell_type": "code",
   "execution_count": 9,
   "id": "903e6ace",
   "metadata": {},
   "outputs": [],
   "source": [
    "# this is use of splat.. process 1 now and rest later (send to another func may be)\n",
    "first, *rest = s.split() "
   ]
  },
  {
   "cell_type": "code",
   "execution_count": 10,
   "id": "a6658789",
   "metadata": {},
   "outputs": [
    {
     "data": {
      "text/plain": [
       "'Hello'"
      ]
     },
     "execution_count": 10,
     "metadata": {},
     "output_type": "execute_result"
    }
   ],
   "source": [
    "first"
   ]
  },
  {
   "cell_type": "code",
   "execution_count": 11,
   "id": "e98068c4",
   "metadata": {},
   "outputs": [
    {
     "data": {
      "text/plain": [
       "['there!', 'Python', 'is', 'intersting!']"
      ]
     },
     "execution_count": 11,
     "metadata": {},
     "output_type": "execute_result"
    }
   ],
   "source": [
    "rest"
   ]
  },
  {
   "cell_type": "code",
   "execution_count": 12,
   "id": "2d4108c6",
   "metadata": {},
   "outputs": [],
   "source": [
    "first, second, *rest = s.split() "
   ]
  },
  {
   "cell_type": "code",
   "execution_count": 13,
   "id": "16c9d61d",
   "metadata": {},
   "outputs": [
    {
     "data": {
      "text/plain": [
       "'Hello'"
      ]
     },
     "execution_count": 13,
     "metadata": {},
     "output_type": "execute_result"
    }
   ],
   "source": [
    "first"
   ]
  },
  {
   "cell_type": "code",
   "execution_count": 14,
   "id": "20be00f8",
   "metadata": {},
   "outputs": [
    {
     "data": {
      "text/plain": [
       "'there!'"
      ]
     },
     "execution_count": 14,
     "metadata": {},
     "output_type": "execute_result"
    }
   ],
   "source": [
    "second"
   ]
  },
  {
   "cell_type": "code",
   "execution_count": 15,
   "id": "33f050c5",
   "metadata": {},
   "outputs": [
    {
     "data": {
      "text/plain": [
       "['Python', 'is', 'intersting!']"
      ]
     },
     "execution_count": 15,
     "metadata": {},
     "output_type": "execute_result"
    }
   ],
   "source": [
    "rest"
   ]
  },
  {
   "cell_type": "code",
   "execution_count": 16,
   "id": "ae6a4104",
   "metadata": {},
   "outputs": [],
   "source": [
    "first, *middle, last = s.split() "
   ]
  },
  {
   "cell_type": "code",
   "execution_count": 17,
   "id": "2cde81b4",
   "metadata": {},
   "outputs": [
    {
     "data": {
      "text/plain": [
       "'Hello'"
      ]
     },
     "execution_count": 17,
     "metadata": {},
     "output_type": "execute_result"
    }
   ],
   "source": [
    "first"
   ]
  },
  {
   "cell_type": "code",
   "execution_count": 18,
   "id": "1b2f3b09",
   "metadata": {},
   "outputs": [
    {
     "data": {
      "text/plain": [
       "['there!', 'Python', 'is']"
      ]
     },
     "execution_count": 18,
     "metadata": {},
     "output_type": "execute_result"
    }
   ],
   "source": [
    "middle"
   ]
  },
  {
   "cell_type": "code",
   "execution_count": 19,
   "id": "dbe51efd",
   "metadata": {},
   "outputs": [
    {
     "data": {
      "text/plain": [
       "'intersting!'"
      ]
     },
     "execution_count": 19,
     "metadata": {},
     "output_type": "execute_result"
    }
   ],
   "source": [
    "last"
   ]
  },
  {
   "cell_type": "code",
   "execution_count": 20,
   "id": "5ea19821",
   "metadata": {},
   "outputs": [
    {
     "data": {
      "text/plain": [
       "'Hello there! Python is intersting!'"
      ]
     },
     "execution_count": 20,
     "metadata": {},
     "output_type": "execute_result"
    }
   ],
   "source": [
    "s"
   ]
  },
  {
   "cell_type": "code",
   "execution_count": 21,
   "id": "0b19d3ad",
   "metadata": {},
   "outputs": [],
   "source": [
    "def f1(s):\n",
    "    print(sum(s))"
   ]
  },
  {
   "cell_type": "code",
   "execution_count": 22,
   "id": "8de62098",
   "metadata": {},
   "outputs": [
    {
     "name": "stdout",
     "output_type": "stream",
     "text": [
      "11\n"
     ]
    }
   ],
   "source": [
    "f1([1,2,3,5])"
   ]
  },
  {
   "cell_type": "code",
   "execution_count": 23,
   "id": "43ebe006",
   "metadata": {},
   "outputs": [
    {
     "ename": "TypeError",
     "evalue": "f1() takes 1 positional argument but 4 were given",
     "output_type": "error",
     "traceback": [
      "\u001b[1;31m---------------------------------------------------------------------------\u001b[0m",
      "\u001b[1;31mTypeError\u001b[0m                                 Traceback (most recent call last)",
      "Cell \u001b[1;32mIn[23], line 1\u001b[0m\n\u001b[1;32m----> 1\u001b[0m f1(\u001b[38;5;241m1\u001b[39m,\u001b[38;5;241m2\u001b[39m,\u001b[38;5;241m3\u001b[39m,\u001b[38;5;241m5\u001b[39m)\n",
      "\u001b[1;31mTypeError\u001b[0m: f1() takes 1 positional argument but 4 were given"
     ]
    }
   ],
   "source": [
    "f1(1,2,3,5)"
   ]
  },
  {
   "cell_type": "code",
   "execution_count": 34,
   "id": "c30b6867",
   "metadata": {},
   "outputs": [],
   "source": [
    "# var-args : I dont know how many arguments are coming\n",
    "def f2(*t):\n",
    "    print(f\"Sum is {sum(t)}\")\n",
    "    print(f\"Length is {len(t)}\")"
   ]
  },
  {
   "cell_type": "code",
   "execution_count": 35,
   "id": "5c339306",
   "metadata": {},
   "outputs": [
    {
     "name": "stdout",
     "output_type": "stream",
     "text": [
      "Sum is 11\n",
      "Length is 4\n"
     ]
    }
   ],
   "source": [
    "f2(1,2,3,5)"
   ]
  },
  {
   "cell_type": "code",
   "execution_count": 36,
   "id": "c719cba2",
   "metadata": {},
   "outputs": [],
   "source": [
    "# Counter Class\n",
    "# Frequency of occurance of each letter\n",
    "\n",
    "story = '''Lorem Ipsum is simply dummy text of the printing and typesetting industry. \n",
    "Lorem Ipsum has been the industry's standard dummy text ever since the 1500s, when an unknown printer took a galley of \n",
    "type and scrambled it to make a type specimen book. It has survived not only five centuries, but also the leap \n",
    "into electronic typesetting, remaining essentially unchanged. It was popularised in the 1960s with the release of \n",
    "Letraset sheets containing Lorem Ipsum passages, and more recently with desktop publishing software like Aldus PageMaker \n",
    "including versions of Lorem Ipsum.'''"
   ]
  },
  {
   "cell_type": "code",
   "execution_count": 37,
   "id": "dad08329",
   "metadata": {},
   "outputs": [],
   "source": [
    "from collections import defaultdict as ddict"
   ]
  },
  {
   "cell_type": "code",
   "execution_count": 38,
   "id": "66fa24a3",
   "metadata": {},
   "outputs": [
    {
     "name": "stdout",
     "output_type": "stream",
     "text": [
      "defaultdict(<class 'int'>, {'L': 5, 'o': 25, 'r': 24, 'e': 59, 'm': 18, ' ': 90, 'I': 6, 'p': 18, 's': 39, 'u': 17, 'i': 32, 'l': 17, 'y': 13, 'd': 16, 't': 43, 'x': 2, 'f': 6, 'h': 14, 'n': 38, 'g': 11, 'a': 28, '.': 4, '\\n': 5, 'b': 5, \"'\": 1, 'v': 5, 'c': 10, '1': 2, '5': 1, '0': 3, ',': 4, 'w': 6, 'k': 7, '9': 1, '6': 1, 'A': 1, 'P': 1, 'M': 1})\n"
     ]
    }
   ],
   "source": [
    "freq = ddict(int)\n",
    "for ch in story:\n",
    "    freq[ch] += 1\n",
    "print(freq)"
   ]
  },
  {
   "cell_type": "code",
   "execution_count": 44,
   "id": "5e83d226",
   "metadata": {},
   "outputs": [
    {
     "name": "stdout",
     "output_type": "stream",
     "text": [
      "defaultdict(<class 'int'>, {'Lorem': 4, 'Ipsum': 3, 'is': 1, 'simply': 1, 'dummy': 2, 'text': 2, 'of': 4, 'the': 6, 'printing': 1, 'and': 3, 'typesetting': 1, 'industry.': 1, 'has': 2, 'been': 1, \"industry's\": 1, 'standard': 1, 'ever': 1, 'since': 1, '1500s,': 1, 'when': 1, 'an': 1, 'unknown': 1, 'printer': 1, 'took': 1, 'a': 2, 'galley': 1, 'type': 2, 'scrambled': 1, 'it': 1, 'to': 1, 'make': 1, 'specimen': 1, 'book.': 1, 'It': 2, 'survived': 1, 'not': 1, 'only': 1, 'five': 1, 'centuries,': 1, 'but': 1, 'also': 1, 'leap': 1, 'into': 1, 'electronic': 1, 'typesetting,': 1, 'remaining': 1, 'essentially': 1, 'unchanged.': 1, 'was': 1, 'popularised': 1, 'in': 1, '1960s': 1, 'with': 2, 'release': 1, 'Letraset': 1, 'sheets': 1, 'containing': 1, 'passages,': 1, 'more': 1, 'recently': 1, 'desktop': 1, 'publishing': 1, 'software': 1, 'like': 1, 'Aldus': 1, 'PageMaker': 1, 'including': 1, 'versions': 1, 'Ipsum.': 1})\n"
     ]
    }
   ],
   "source": [
    "anags = ddict(int)\n",
    "words = story.split()\n",
    "for word in words:\n",
    "     anags[word] += 1\n",
    "print(anags)"
   ]
  },
  {
   "cell_type": "code",
   "execution_count": 45,
   "id": "944c2bc5",
   "metadata": {},
   "outputs": [],
   "source": [
    "from collections import Counter\n",
    "freq_ch = Counter(story)"
   ]
  },
  {
   "cell_type": "code",
   "execution_count": 46,
   "id": "66101f12",
   "metadata": {},
   "outputs": [
    {
     "data": {
      "text/plain": [
       "[(' ', 90), ('e', 59), ('t', 43), ('s', 39), ('n', 38)]"
      ]
     },
     "execution_count": 46,
     "metadata": {},
     "output_type": "execute_result"
    }
   ],
   "source": [
    "freq.most_common(5)"
   ]
  },
  {
   "cell_type": "code",
   "execution_count": 47,
   "id": "c788781a",
   "metadata": {},
   "outputs": [
    {
     "data": {
      "text/plain": [
       "dict_items([('L', 5), ('o', 25), ('r', 24), ('e', 59), ('m', 18), (' ', 90), ('I', 6), ('p', 18), ('s', 39), ('u', 17), ('i', 32), ('l', 17), ('y', 13), ('d', 16), ('t', 43), ('x', 2), ('f', 6), ('h', 14), ('n', 38), ('g', 11), ('a', 28), ('.', 4), ('\\n', 5), ('b', 5), (\"'\", 1), ('v', 5), ('c', 10), ('1', 2), ('5', 1), ('0', 3), (',', 4), ('w', 6), ('k', 7), ('9', 1), ('6', 1), ('A', 1), ('P', 1), ('M', 1)])"
      ]
     },
     "execution_count": 47,
     "metadata": {},
     "output_type": "execute_result"
    }
   ],
   "source": [
    "freq.items()"
   ]
  },
  {
   "cell_type": "code",
   "execution_count": 48,
   "id": "52d689bb",
   "metadata": {},
   "outputs": [],
   "source": [
    "Counter?"
   ]
  },
  {
   "cell_type": "code",
   "execution_count": 50,
   "id": "e22a3038",
   "metadata": {},
   "outputs": [
    {
     "data": {
      "text/plain": [
       "[('the', 6), ('Lorem', 4), ('of', 4), ('Ipsum', 3), ('and', 3)]"
      ]
     },
     "execution_count": 50,
     "metadata": {},
     "output_type": "execute_result"
    }
   ],
   "source": [
    "freq_str = Counter(words)\n",
    "freq_str.most_common(5)"
   ]
  },
  {
   "cell_type": "code",
   "execution_count": 52,
   "id": "6885030d",
   "metadata": {},
   "outputs": [],
   "source": [
    "def gcd(a: int, b: int) -> int:\n",
    "    if a%b == 0:\n",
    "        return b\n",
    "    return gcd(b, a%b)"
   ]
  },
  {
   "cell_type": "code",
   "execution_count": 54,
   "id": "e7880611",
   "metadata": {},
   "outputs": [
    {
     "name": "stdout",
     "output_type": "stream",
     "text": [
      "works for 26 and 65\n"
     ]
    }
   ],
   "source": [
    "if gcd(26, 65) == 13:\n",
    "    print(\"works for 26 and 65\")"
   ]
  },
  {
   "cell_type": "code",
   "execution_count": 55,
   "id": "bc809622",
   "metadata": {},
   "outputs": [
    {
     "data": {
      "text/plain": [
       "'__main__'"
      ]
     },
     "execution_count": 55,
     "metadata": {},
     "output_type": "execute_result"
    }
   ],
   "source": [
    "__name__"
   ]
  },
  {
   "cell_type": "code",
   "execution_count": 56,
   "id": "4e41b937",
   "metadata": {},
   "outputs": [],
   "source": [
    "# Lambda\n",
    "\n",
    "def even(n: int) -> bool:\n",
    "    return n%2 == 0"
   ]
  },
  {
   "cell_type": "code",
   "execution_count": 57,
   "id": "6c70fd6f",
   "metadata": {},
   "outputs": [
    {
     "data": {
      "text/plain": [
       "[2, 8, 6, 6]"
      ]
     },
     "execution_count": 57,
     "metadata": {},
     "output_type": "execute_result"
    }
   ],
   "source": [
    "list(filter(even, [2, 7, 8, 3, 6, 6]))"
   ]
  },
  {
   "cell_type": "code",
   "execution_count": 58,
   "id": "86196cde",
   "metadata": {},
   "outputs": [
    {
     "data": {
      "text/plain": [
       "[2, 8, 6, 6]"
      ]
     },
     "execution_count": 58,
     "metadata": {},
     "output_type": "execute_result"
    }
   ],
   "source": [
    "list(filter(lambda k: k%2 == 0, [2, 7, 8, 3, 6, 6]))"
   ]
  },
  {
   "cell_type": "code",
   "execution_count": 59,
   "id": "f5833f46",
   "metadata": {},
   "outputs": [],
   "source": [
    "from functools import reduce\n",
    "def digits_to_number(digits: list[int]) -> int:\n",
    "    return reduce(lambda x, y: 10 * x + y, digits)"
   ]
  },
  {
   "cell_type": "code",
   "execution_count": 60,
   "id": "1d50eb5a",
   "metadata": {},
   "outputs": [
    {
     "data": {
      "text/plain": [
       "1729"
      ]
     },
     "execution_count": 60,
     "metadata": {},
     "output_type": "execute_result"
    }
   ],
   "source": [
    "digits_to_number([1, 7, 2, 9])"
   ]
  },
  {
   "cell_type": "code",
   "execution_count": 61,
   "id": "fdac687f",
   "metadata": {},
   "outputs": [],
   "source": [
    "demo = open(\"demo.txt\").readlines()"
   ]
  },
  {
   "cell_type": "code",
   "execution_count": 62,
   "id": "1bda1eb1",
   "metadata": {},
   "outputs": [
    {
     "data": {
      "text/plain": [
       "['1 Apple\\n', '2 Bananna\\n', '3 Chocolate\\n', '4 Demo\\n', '5 Elephant']"
      ]
     },
     "execution_count": 62,
     "metadata": {},
     "output_type": "execute_result"
    }
   ],
   "source": [
    "demo"
   ]
  },
  {
   "cell_type": "code",
   "execution_count": 66,
   "id": "bc0c7f92",
   "metadata": {},
   "outputs": [],
   "source": [
    "import re\n",
    "pattern = \"[a-z]\"\n",
    "result = re.findall(pattern, ''.join(demo))"
   ]
  },
  {
   "cell_type": "code",
   "execution_count": 68,
   "id": "6010ccb2",
   "metadata": {},
   "outputs": [
    {
     "data": {
      "text/plain": [
       "\"Lorem Ipsum is simply dummy text of the printing and typesetting industry. \\nLorem Ipsum has been the industry's standard dummy text ever since the 1500s, when an unknown printer took a galley of \\ntype and scrambled it to make a type specimen book. It has survived not only five centuries, but also the leap \\ninto electronic typesetting, remaining essentially unchanged. It was popularised in the 1960s with the release of \\nLetraset sheets containing Lorem Ipsum passages, and more recently with desktop publishing software like Aldus PageMaker \\nincluding versions of Lorem Ipsum.\""
      ]
     },
     "execution_count": 68,
     "metadata": {},
     "output_type": "execute_result"
    }
   ],
   "source": [
    "story"
   ]
  },
  {
   "cell_type": "code",
   "execution_count": 69,
   "id": "123c1faa",
   "metadata": {},
   "outputs": [
    {
     "data": {
      "text/plain": [
       "['Lorem Ipsum is simply dummy text of the printing and typesetting industry',\n",
       " \" \\nLorem Ipsum has been the industry's standard dummy text ever since the 1500s\",\n",
       " ' when an unknown printer took a galley of \\ntype and scrambled it to make a type specimen book',\n",
       " ' It has survived not only five centuries',\n",
       " ' but also the leap \\ninto electronic typesetting',\n",
       " ' remaining essentially unchanged',\n",
       " ' It was popularised in the 1960s with the release of \\nLetraset sheets containing Lorem Ipsum passages',\n",
       " ' and more recently with desktop publishing software like Aldus PageMaker \\nincluding versions of Lorem Ipsum',\n",
       " '']"
      ]
     },
     "execution_count": 69,
     "metadata": {},
     "output_type": "execute_result"
    }
   ],
   "source": [
    "pattern = re.compile(\"[,.]\")\n",
    "pattern.split(story)"
   ]
  },
  {
   "cell_type": "code",
   "execution_count": 70,
   "id": "f0ebbe05",
   "metadata": {},
   "outputs": [],
   "source": [
    "dates = [\"17 Jan, 2014\", \"7, Mar 2012\", \"14,Feb 2001\"]"
   ]
  },
  {
   "cell_type": "code",
   "execution_count": 74,
   "id": "fef7f9c2",
   "metadata": {},
   "outputs": [
    {
     "data": {
      "text/plain": [
       "[['17', 'Jan', '', '2014'], ['7', '', 'Mar', '2012'], ['14', 'Feb', '2001']]"
      ]
     },
     "execution_count": 74,
     "metadata": {},
     "output_type": "execute_result"
    }
   ],
   "source": [
    "pattern = re.compile(\"[ ,]\")\n",
    "[pattern.split(d) for d in dates]"
   ]
  },
  {
   "cell_type": "code",
   "execution_count": 76,
   "id": "ff4b2185",
   "metadata": {},
   "outputs": [],
   "source": [
    "with_html = '''<h2>Amicable Numbers</h2><div id=\"problem_icons\" class=\"noprint\"><a href=\"minimal=21\"><img src=\"images/icons/file_html.png\" title=\"Show HTML problem content\" class=\"icon\"></a>&nbsp;<span class=\"tooltip\"><img src=\"images/icons/info.png\" class=\"icon\"><span class=\"tooltiptext_right\">Published on Friday, 5th July 2002, 06:00 pm; Solved by 153985;<br>Difficulty rating: 5%</span></span></div><div id=\"problem_info\"><h3>Problem 21</h3></div>\n",
    "<div class=\"problem_content\" role=\"problem\">\n",
    "<p>Let $d(n)$ be defined as the sum of proper divisors of $n$ (numbers less than $n$ which divide evenly into $n$).<br>\n",
    "If $d(a) = b$ and $d(b) = a$, where $a \\ne b$, then $a$ and $b$ are an amicable pair and each of $a$ and $b$ are called amicable numbers.</p>\n",
    "<p>For example, the proper divisors of $220$ are $1, 2, 4, 5, 10, 11, 20, 22, 44, 55$ and $110$; therefore $d(220) = 284$. The proper divisors of $284$ are $1, 2, 4, 71$ and $142$; so $d(284) = 220$.</p>\n",
    "<p>Evaluate the sum of all the amicable numbers under $10000$.</p>'''"
   ]
  },
  {
   "cell_type": "code",
   "execution_count": 87,
   "id": "8949289a",
   "metadata": {},
   "outputs": [
    {
     "data": {
      "text/plain": [
       "['<h2>',\n",
       " '</h2>',\n",
       " '<div id=\"problem_icons\" class=\"noprint\">',\n",
       " '<a href=\"minimal=21\">',\n",
       " '<img src=\"images/icons/file_html.png\" title=\"Show HTML problem content\" class=\"icon\">',\n",
       " '</a>',\n",
       " '<span class=\"tooltip\">',\n",
       " '<img src=\"images/icons/info.png\" class=\"icon\">',\n",
       " '<span class=\"tooltiptext_right\">',\n",
       " '<br>',\n",
       " '</span>',\n",
       " '</span>',\n",
       " '</div>',\n",
       " '<div id=\"problem_info\">',\n",
       " '<h3>',\n",
       " '</h3>',\n",
       " '</div>',\n",
       " '<div class=\"problem_content\" role=\"problem\">',\n",
       " '<p>',\n",
       " '<br>',\n",
       " '</p>',\n",
       " '<p>',\n",
       " '</p>',\n",
       " '<p>',\n",
       " '</p>']"
      ]
     },
     "execution_count": 87,
     "metadata": {},
     "output_type": "execute_result"
    }
   ],
   "source": [
    "pattern = re.compile(\"<[^>]*>\")\n",
    "tags = re.findall(pattern, with_html)\n",
    "tags"
   ]
  },
  {
   "cell_type": "code",
   "execution_count": 91,
   "id": "222b2918",
   "metadata": {},
   "outputs": [
    {
     "data": {
      "text/plain": [
       "['<h2>', '</h2>', '<h3>', '</h3>']"
      ]
     },
     "execution_count": 91,
     "metadata": {},
     "output_type": "execute_result"
    }
   ],
   "source": [
    "pattern = re.compile(\"</?h\\d>\")\n",
    "tags = re.findall(pattern, with_html)\n",
    "tags"
   ]
  },
  {
   "cell_type": "code",
   "execution_count": 97,
   "id": "9624fa6a",
   "metadata": {},
   "outputs": [],
   "source": [
    "#Generators / Yield\n",
    "def fibs():\n",
    "    a, b = 0, 1\n",
    "    while True:\n",
    "        yield a #state retention (remembers where it is).. goes to the calling function\n",
    "        a, b = b, a+b"
   ]
  },
  {
   "cell_type": "code",
   "execution_count": 98,
   "id": "a936df50",
   "metadata": {},
   "outputs": [
    {
     "name": "stdout",
     "output_type": "stream",
     "text": [
      "the 0th Fibonacci number is 0\n",
      "the 1th Fibonacci number is 1\n",
      "the 2th Fibonacci number is 1\n",
      "the 3th Fibonacci number is 2\n",
      "the 4th Fibonacci number is 3\n",
      "the 5th Fibonacci number is 5\n",
      "the 6th Fibonacci number is 8\n",
      "the 7th Fibonacci number is 13\n",
      "the 8th Fibonacci number is 21\n",
      "the 9th Fibonacci number is 34\n",
      "the 10th Fibonacci number is 55\n",
      "the 11th Fibonacci number is 89\n"
     ]
    }
   ],
   "source": [
    "for i, f in enumerate(fibs()):\n",
    "    print(f'the {i}th Fibonacci number is {f}')\n",
    "    if i > 10:\n",
    "        break"
   ]
  },
  {
   "cell_type": "code",
   "execution_count": 99,
   "id": "934cd56d",
   "metadata": {},
   "outputs": [
    {
     "ename": "NameError",
     "evalue": "name 'b' is not defined",
     "output_type": "error",
     "traceback": [
      "\u001b[1;31m---------------------------------------------------------------------------\u001b[0m",
      "\u001b[1;31mNameError\u001b[0m                                 Traceback (most recent call last)",
      "Cell \u001b[1;32mIn[99], line 1\u001b[0m\n\u001b[1;32m----> 1\u001b[0m \u001b[38;5;28;01mfor\u001b[39;00m i, f \u001b[38;5;129;01min\u001b[39;00m \u001b[38;5;28menumerate\u001b[39m(b):\n\u001b[0;32m      2\u001b[0m     \u001b[38;5;28mprint\u001b[39m(\u001b[38;5;124mf\u001b[39m\u001b[38;5;124m'\u001b[39m\u001b[38;5;124mthe \u001b[39m\u001b[38;5;132;01m{\u001b[39;00mi\u001b[38;5;132;01m}\u001b[39;00m\u001b[38;5;124mth Fibonacci number is \u001b[39m\u001b[38;5;132;01m{\u001b[39;00mf\u001b[38;5;132;01m}\u001b[39;00m\u001b[38;5;124m'\u001b[39m)\n\u001b[0;32m      3\u001b[0m     \u001b[38;5;28;01mif\u001b[39;00m i \u001b[38;5;241m>\u001b[39m \u001b[38;5;241m5\u001b[39m:\n",
      "\u001b[1;31mNameError\u001b[0m: name 'b' is not defined"
     ]
    }
   ],
   "source": [
    "for i, f in enumerate(b):\n",
    "    print(f'the {i}th Fibonacci number is {f}')\n",
    "    if i > 5:\n",
    "        break"
   ]
  },
  {
   "cell_type": "code",
   "execution_count": 107,
   "id": "ddff5e88",
   "metadata": {},
   "outputs": [],
   "source": [
    "def fib2(limit: int) -> int:\n",
    "    a, b = 0, 1\n",
    "    count = 0\n",
    "    while count < limit:\n",
    "        a, b = b, a+b\n",
    "        yield a\n",
    "        count += 1"
   ]
  },
  {
   "cell_type": "code",
   "execution_count": 117,
   "id": "eb5eadb0",
   "metadata": {},
   "outputs": [],
   "source": [
    "ten = fib2(10)\n",
    "#print(ten)\n",
    "#result_string = ''.join([str(x) for x in ten]) #convert generator object to string\n",
    "#print(result_string)"
   ]
  },
  {
   "cell_type": "code",
   "execution_count": 118,
   "id": "a6f04d17",
   "metadata": {},
   "outputs": [
    {
     "name": "stdout",
     "output_type": "stream",
     "text": [
      "143\n"
     ]
    }
   ],
   "source": [
    "print(sum(ten))"
   ]
  },
  {
   "cell_type": "code",
   "execution_count": 120,
   "id": "b99a3b11",
   "metadata": {},
   "outputs": [
    {
     "data": {
      "text/plain": [
       "36"
      ]
     },
     "execution_count": 120,
     "metadata": {},
     "output_type": "execute_result"
    }
   ],
   "source": [
    "#odds = filter(lambda l: l % 2 == 1, range(12))\n",
    "odds = filter(lambda i: i % 2 == 1, range(12))\n",
    "sum(odds)"
   ]
  },
  {
   "cell_type": "code",
   "execution_count": 129,
   "id": "98ad5c1b",
   "metadata": {},
   "outputs": [],
   "source": [
    "testy = zip(range(10), \"ABCDER\")"
   ]
  },
  {
   "cell_type": "code",
   "execution_count": 130,
   "id": "b8a05e74",
   "metadata": {},
   "outputs": [
    {
     "name": "stdout",
     "output_type": "stream",
     "text": [
      "(0, 'A')(1, 'B')(2, 'C')(3, 'D')(4, 'E')(5, 'R')\n"
     ]
    }
   ],
   "source": [
    "print(''.join(map(str, testy)))"
   ]
  },
  {
   "cell_type": "code",
   "execution_count": 137,
   "id": "ab8f5393",
   "metadata": {},
   "outputs": [
    {
     "name": "stdout",
     "output_type": "stream",
     "text": [
      "File is not there\n",
      "Good bye!\n"
     ]
    }
   ],
   "source": [
    "# Exception handling\n",
    "try:\n",
    "    #f = open(\"demo.txt\")\n",
    "    #f = open1(\"demooo.txt\")\n",
    "    f = open(\"demooo.txt\")\n",
    "except OSError:\n",
    "    print(\"File is not there\")\n",
    "except:\n",
    "    print(\"Call Police!\")\n",
    "finally:\n",
    "    print(\"Good bye!\")"
   ]
  },
  {
   "cell_type": "code",
   "execution_count": 138,
   "id": "f68c4508",
   "metadata": {},
   "outputs": [],
   "source": [
    "# Decorator is to modify the functionality of a func"
   ]
  },
  {
   "cell_type": "code",
   "execution_count": 139,
   "id": "52a685c8",
   "metadata": {},
   "outputs": [],
   "source": [
    "def add_one(n : int) -> int:\n",
    "    return n + 1"
   ]
  },
  {
   "cell_type": "code",
   "execution_count": 144,
   "id": "e368a735",
   "metadata": {},
   "outputs": [],
   "source": [
    "def fibgen(n: int) -> int:\n",
    "    if n == 0:\n",
    "        return 0\n",
    "    elif n == 1:\n",
    "        return 1\n",
    "    else:\n",
    "        return fibgen(n-2) + fibgen(n-1)"
   ]
  },
  {
   "cell_type": "code",
   "execution_count": 145,
   "id": "2a2dd5c9",
   "metadata": {},
   "outputs": [],
   "source": [
    "from functools import lru_cache\n",
    "@lru_cache\n",
    "def fibgen2(n: int) -> int:\n",
    "    if n == 0:\n",
    "        return 0\n",
    "    elif n == 1:\n",
    "        return 1\n",
    "    else:\n",
    "        return fibgen(n-2) + fibgen(n-1)\n"
   ]
  },
  {
   "cell_type": "code",
   "execution_count": 146,
   "id": "55ffe9b4",
   "metadata": {},
   "outputs": [
    {
     "name": "stdout",
     "output_type": "stream",
     "text": [
      "75025\n"
     ]
    }
   ],
   "source": [
    "print(fibgen2(25))"
   ]
  },
  {
   "cell_type": "code",
   "execution_count": null,
   "id": "139feec4",
   "metadata": {},
   "outputs": [],
   "source": []
  }
 ],
 "metadata": {
  "kernelspec": {
   "display_name": "Python 3 (ipykernel)",
   "language": "python",
   "name": "python3"
  },
  "language_info": {
   "codemirror_mode": {
    "name": "ipython",
    "version": 3
   },
   "file_extension": ".py",
   "mimetype": "text/x-python",
   "name": "python",
   "nbconvert_exporter": "python",
   "pygments_lexer": "ipython3",
   "version": "3.11.5"
  }
 },
 "nbformat": 4,
 "nbformat_minor": 5
}
