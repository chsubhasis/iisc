{
  "nbformat": 4,
  "nbformat_minor": 0,
  "metadata": {
    "colab": {
      "private_outputs": true,
      "provenance": [],
      "include_colab_link": true
    },
    "kernelspec": {
      "name": "python3",
      "display_name": "Python 3"
    },
    "language_info": {
      "name": "python"
    }
  },
  "cells": [
    {
      "cell_type": "markdown",
      "metadata": {
        "id": "view-in-github",
        "colab_type": "text"
      },
      "source": [
        "<a href=\"https://colab.research.google.com/github/chsubhasis/iisc/blob/main/AIMLOps_20240302.ipynb\" target=\"_parent\"><img src=\"https://colab.research.google.com/assets/colab-badge.svg\" alt=\"Open In Colab\"/></a>"
      ]
    },
    {
      "cell_type": "markdown",
      "source": [
        "# Welcome\n",
        "## Protocols\n",
        "## Setup\n",
        "## Let's Go!\n"
      ],
      "metadata": {
        "id": "YQ97rte1NY_P"
      }
    },
    {
      "cell_type": "markdown",
      "source": [
        "# Problem 1 (Euler 1)\n",
        "If we list all the natural numbers below $10$ that are multiples of $3$ or $5$, we get $3, 5, 6, $ and $9$. The sum of these multiples is $23$.\n",
        "\n",
        "Find the sum of all the multiples of\n",
        "or below $1000$."
      ],
      "metadata": {
        "id": "DE6kLPEGNuXf"
      }
    },
    {
      "cell_type": "code",
      "source": [
        "def select(n: int) -> bool:\n",
        "    return n % 3 == 0 or n % 5 == 0\n",
        "\n",
        "def euler001_1(limit: int) -> int:\n",
        "    n, total = 1, 0\n",
        "    while n < limit:\n",
        "        if select(n):\n",
        "            total += n\n",
        "        n += 1\n",
        "    return total"
      ],
      "metadata": {
        "id": "WywMAixLQHvm"
      },
      "execution_count": null,
      "outputs": []
    },
    {
      "cell_type": "code",
      "source": [
        "print(euler001_1(10))"
      ],
      "metadata": {
        "id": "HRJV4Vl5SuUS"
      },
      "execution_count": null,
      "outputs": []
    },
    {
      "cell_type": "code",
      "source": [
        "print(euler001_1(1000))"
      ],
      "metadata": {
        "id": "Sxx4HXx7SxCu"
      },
      "execution_count": null,
      "outputs": []
    },
    {
      "cell_type": "code",
      "source": [
        "def euler001_2(limit: int) -> int:\n",
        "    total = 0\n",
        "    for n in range(1, limit):\n",
        "        if select(n):\n",
        "            total += n\n",
        "    return total"
      ],
      "metadata": {
        "id": "Kjub9i78S_Iw"
      },
      "execution_count": null,
      "outputs": []
    },
    {
      "cell_type": "code",
      "source": [
        "print(euler001_2(1000))"
      ],
      "metadata": {
        "id": "HtkuJRXuTo90"
      },
      "execution_count": null,
      "outputs": []
    },
    {
      "cell_type": "code",
      "source": [
        "select(7)"
      ],
      "metadata": {
        "id": "B6N_SejSTrNu"
      },
      "execution_count": null,
      "outputs": []
    },
    {
      "cell_type": "code",
      "source": [
        "select(6)"
      ],
      "metadata": {
        "id": "iDGz4DQcU65n"
      },
      "execution_count": null,
      "outputs": []
    },
    {
      "cell_type": "code",
      "source": [
        "7 + \"Hello\""
      ],
      "metadata": {
        "id": "N9tJ4kqGU8fz"
      },
      "execution_count": null,
      "outputs": []
    },
    {
      "cell_type": "code",
      "source": [
        "str(7) + \"Hello\""
      ],
      "metadata": {
        "id": "tg1y3P4OWZXu"
      },
      "execution_count": null,
      "outputs": []
    },
    {
      "cell_type": "code",
      "source": [
        "def euler001_3(limit: int) -> int:\n",
        "    return sum(range(3, limit, 3)) +\\\n",
        "           sum(range(5, limit, 5)) -\\\n",
        "           sum(range(15, limit, 15))"
      ],
      "metadata": {
        "id": "XSAb6YwvYjbM"
      },
      "execution_count": null,
      "outputs": []
    },
    {
      "cell_type": "code",
      "source": [
        "print(euler001_3(1000))"
      ],
      "metadata": {
        "id": "SSaOAJtLZ9_r"
      },
      "execution_count": null,
      "outputs": []
    },
    {
      "cell_type": "code",
      "source": [
        "range(10)"
      ],
      "metadata": {
        "id": "qn3LqjY2aAdY"
      },
      "execution_count": null,
      "outputs": []
    },
    {
      "cell_type": "code",
      "source": [
        "list(range(10))"
      ],
      "metadata": {
        "id": "XxhgTKTia0pL"
      },
      "execution_count": null,
      "outputs": []
    },
    {
      "cell_type": "code",
      "source": [
        "list(range(34, 41))"
      ],
      "metadata": {
        "id": "zUF5CneUa2_S"
      },
      "execution_count": null,
      "outputs": []
    },
    {
      "cell_type": "code",
      "source": [
        "list(range(31, 76, 4))"
      ],
      "metadata": {
        "id": "f4EWcZHrbAkS"
      },
      "execution_count": null,
      "outputs": []
    },
    {
      "cell_type": "code",
      "source": [
        "range?"
      ],
      "metadata": {
        "id": "idzZk9qDbF4b"
      },
      "execution_count": null,
      "outputs": []
    },
    {
      "cell_type": "code",
      "source": [
        "def multiples(of: int, upto: int) -> range:\n",
        "    return range(of, upto, of)"
      ],
      "metadata": {
        "id": "uc0JqsUeb1G2"
      },
      "execution_count": null,
      "outputs": []
    },
    {
      "cell_type": "code",
      "source": [
        "def euler001_4(limit: int) -> int:\n",
        "    return sum(set(multiples(3, limit)) | set(multiples(5, limit)))"
      ],
      "metadata": {
        "id": "0NXy2Lcsbxvi"
      },
      "execution_count": null,
      "outputs": []
    },
    {
      "cell_type": "code",
      "source": [
        "print(euler001_4(1000))"
      ],
      "metadata": {
        "id": "cZ0OxkFIcsrw"
      },
      "execution_count": null,
      "outputs": []
    },
    {
      "cell_type": "code",
      "source": [
        "set(multiples(3, 10))"
      ],
      "metadata": {
        "id": "1sX4tnl9cvFx"
      },
      "execution_count": null,
      "outputs": []
    },
    {
      "cell_type": "code",
      "source": [
        "%timeit\n",
        "print(euler001_4(2000))"
      ],
      "metadata": {
        "id": "MdaH2NgVexeY"
      },
      "execution_count": null,
      "outputs": []
    },
    {
      "cell_type": "markdown",
      "source": [
        "# $a \\in S$"
      ],
      "metadata": {
        "id": "oOif2mCHfnPv"
      }
    },
    {
      "cell_type": "code",
      "source": [
        "def euler001_5(limit: int) -> int:\n",
        "    return sum(filter(select, range(1, limit)))"
      ],
      "metadata": {
        "id": "dDUi72QtiQWQ"
      },
      "execution_count": null,
      "outputs": []
    },
    {
      "cell_type": "code",
      "source": [
        "print(euler001_5(1000))"
      ],
      "metadata": {
        "id": "U8QgTYJljI_r"
      },
      "execution_count": null,
      "outputs": []
    },
    {
      "cell_type": "code",
      "source": [
        "def euler001_6(limit: int) -> int:\n",
        "    return sum([n for n in range(1, limit) if select(n)])"
      ],
      "metadata": {
        "id": "QgIQVoe4jLeu"
      },
      "execution_count": null,
      "outputs": []
    },
    {
      "cell_type": "markdown",
      "source": [
        "# Break"
      ],
      "metadata": {
        "id": "BIhwjwk2jZM0"
      }
    },
    {
      "cell_type": "markdown",
      "source": [
        "## Functional Programming\n",
        "## Comments\n"
      ],
      "metadata": {
        "id": "imysKzddpA8S"
      }
    },
    {
      "cell_type": "code",
      "source": [
        "def euler001_A(limit: int) -> int:\n",
        "    ''' A list comprehension based implementation\n",
        "    for Euler Problem 1. 3 and 5 are hard coded in the\n",
        "    select() function'''\n",
        "    return sum([n for n in range(1, limit) if select(n)])"
      ],
      "metadata": {
        "id": "oPMg-a4ppdLv"
      },
      "execution_count": null,
      "outputs": []
    },
    {
      "cell_type": "code",
      "source": [
        "select(7)"
      ],
      "metadata": {
        "id": "aH7wgYuSsRn7"
      },
      "execution_count": null,
      "outputs": []
    },
    {
      "cell_type": "code",
      "source": [
        "pick = select"
      ],
      "metadata": {
        "id": "hukuL3qDt37n"
      },
      "execution_count": null,
      "outputs": []
    },
    {
      "cell_type": "code",
      "source": [
        "pick(9)"
      ],
      "metadata": {
        "id": "Q-CoYhpCt6D2"
      },
      "execution_count": null,
      "outputs": []
    },
    {
      "cell_type": "code",
      "source": [
        "pick(10)"
      ],
      "metadata": {
        "id": "AdVJN7kGt7MQ"
      },
      "execution_count": null,
      "outputs": []
    },
    {
      "cell_type": "code",
      "source": [
        "def alpha(n):\n",
        "    r = 0\n",
        "    while r * r * r < n:\n",
        "        r += 1\n",
        "    return r * r * r == n"
      ],
      "metadata": {
        "id": "AA8gd8pDujEk"
      },
      "execution_count": null,
      "outputs": []
    },
    {
      "cell_type": "code",
      "source": [
        "def is_perfect_cube(n: int) -> bool:\n",
        "    r = 0\n",
        "    while r * r * r < n:\n",
        "        r += 1\n",
        "    return r * r * r == n"
      ],
      "metadata": {
        "id": "GZgtz2DDuwV9"
      },
      "execution_count": null,
      "outputs": []
    },
    {
      "cell_type": "code",
      "source": [
        "def is_power2(n: int) -> bool:\n",
        "    r = 0\n",
        "    while 2 ** r < n:\n",
        "        r += 1\n",
        "    return 2 ** r == n"
      ],
      "metadata": {
        "id": "mnu7sOIovXCM"
      },
      "execution_count": null,
      "outputs": []
    },
    {
      "cell_type": "code",
      "source": [
        "def inv(f, n: int) -> bool:\n",
        "    r = 0\n",
        "    while f(r) < n:\n",
        "        r += 1\n",
        "    return f(r) == n"
      ],
      "metadata": {
        "id": "1SZi2aW9vkty"
      },
      "execution_count": null,
      "outputs": []
    },
    {
      "cell_type": "code",
      "source": [
        "def power3(n: int) -> int:\n",
        "    return 3 ** n"
      ],
      "metadata": {
        "id": "bIXfkriaxw8h"
      },
      "execution_count": null,
      "outputs": []
    },
    {
      "cell_type": "code",
      "source": [
        "def is_power3(n: int) -> bool:\n",
        "    return inv(power3, n)"
      ],
      "metadata": {
        "id": "WyzA3gyex80G"
      },
      "execution_count": null,
      "outputs": []
    },
    {
      "cell_type": "code",
      "source": [
        "def square(n: int) -> int:\n",
        "    return n * n\n",
        "def is_perfect_square(n: int) -> bool:\n",
        "    return inv(square, n)\n",
        "def is_perf_square(n: int) -> bool:\n",
        "    return inv(lambda p: p * p, n)"
      ],
      "metadata": {
        "id": "A96s8cPhyJN_"
      },
      "execution_count": null,
      "outputs": []
    },
    {
      "cell_type": "code",
      "source": [
        "is_power3(81)"
      ],
      "metadata": {
        "id": "ITjhSkSGyieV"
      },
      "execution_count": null,
      "outputs": []
    },
    {
      "cell_type": "code",
      "source": [
        "is_power3(100)"
      ],
      "metadata": {
        "id": "vKlTTxozyk_E"
      },
      "execution_count": null,
      "outputs": []
    },
    {
      "cell_type": "code",
      "source": [
        "is_perfect_square(100)"
      ],
      "metadata": {
        "id": "OE1HT571ymh_"
      },
      "execution_count": null,
      "outputs": []
    },
    {
      "cell_type": "code",
      "source": [
        "def is_perf_cube(n: int) -> bool:\n",
        "    return inv(lambda x: x * x * x, n)"
      ],
      "metadata": {
        "id": "ywWjgmxUynw3"
      },
      "execution_count": null,
      "outputs": []
    },
    {
      "cell_type": "code",
      "source": [
        "is_perf_cube(27)"
      ],
      "metadata": {
        "id": "xudyk07V0bYI"
      },
      "execution_count": null,
      "outputs": []
    },
    {
      "cell_type": "code",
      "source": [
        "is_perf_cube(45)"
      ],
      "metadata": {
        "id": "pWFz1WWK0f-d"
      },
      "execution_count": null,
      "outputs": []
    },
    {
      "cell_type": "code",
      "source": [
        "f = lambda x: x * x + 1"
      ],
      "metadata": {
        "id": "-EOW5TFY0ild"
      },
      "execution_count": null,
      "outputs": []
    },
    {
      "cell_type": "code",
      "source": [
        "f(3)"
      ],
      "metadata": {
        "id": "xTeQTdW_36aY"
      },
      "execution_count": null,
      "outputs": []
    },
    {
      "cell_type": "code",
      "source": [
        "type(f)"
      ],
      "metadata": {
        "id": "I5ne9POW37oe"
      },
      "execution_count": null,
      "outputs": []
    },
    {
      "cell_type": "code",
      "source": [
        "sqr = lambda k: k * k"
      ],
      "metadata": {
        "id": "vq2dcO5r4Fcm"
      },
      "execution_count": null,
      "outputs": []
    },
    {
      "cell_type": "code",
      "source": [
        "g = lambda a, b: a - b"
      ],
      "metadata": {
        "id": "ojLhMrHW4Sdf"
      },
      "execution_count": null,
      "outputs": []
    },
    {
      "cell_type": "code",
      "source": [
        "g(6, 7)"
      ],
      "metadata": {
        "id": "bYxf-pKf4f3V"
      },
      "execution_count": null,
      "outputs": []
    },
    {
      "cell_type": "code",
      "source": [
        "g(12, 7)"
      ],
      "metadata": {
        "id": "D2pSYPoD4hRl"
      },
      "execution_count": null,
      "outputs": []
    },
    {
      "cell_type": "code",
      "source": [
        "sqr.__doc__ = '''Please dont do this'''"
      ],
      "metadata": {
        "id": "qpRCTRap4jVJ"
      },
      "execution_count": null,
      "outputs": []
    },
    {
      "cell_type": "code",
      "source": [
        "euler001_A.__doc__"
      ],
      "metadata": {
        "id": "4RnZLCdl5Uyq"
      },
      "execution_count": null,
      "outputs": []
    },
    {
      "cell_type": "code",
      "source": [
        "filter?\n"
      ],
      "metadata": {
        "id": "0eq2Jvl55j-Q"
      },
      "execution_count": null,
      "outputs": []
    },
    {
      "cell_type": "markdown",
      "source": [
        "$S' = \\{x|x \\in S, \\pi(x)\\}$\n",
        "\n",
        "\n"
      ],
      "metadata": {
        "id": "ZipNNpi26_yO"
      }
    },
    {
      "cell_type": "code",
      "source": [
        "m = [0, 1, 1, 2, 3, 5, 8, 13, 21, 34, 55, 89]"
      ],
      "metadata": {
        "id": "zl1ue27N7WK6"
      },
      "execution_count": null,
      "outputs": []
    },
    {
      "cell_type": "code",
      "source": [
        "filter(is_even, m)"
      ],
      "metadata": {
        "id": "pZMLeoCh8Jbo"
      },
      "execution_count": null,
      "outputs": []
    },
    {
      "cell_type": "code",
      "source": [
        "is_even = lambda x: x % 2 == 0"
      ],
      "metadata": {
        "id": "aw4T5KzM8Zno"
      },
      "execution_count": null,
      "outputs": []
    },
    {
      "cell_type": "code",
      "source": [
        "filter(is_even, m)"
      ],
      "metadata": {
        "id": "xAnOHNyC8eGU"
      },
      "execution_count": null,
      "outputs": []
    },
    {
      "cell_type": "code",
      "source": [
        "list(filter(is_even, m))"
      ],
      "metadata": {
        "id": "35UVZCaE8hBd"
      },
      "execution_count": null,
      "outputs": []
    },
    {
      "cell_type": "code",
      "source": [
        "for x in filter(lambda x : x % 5 == 0, m):\n",
        "    print(x)"
      ],
      "metadata": {
        "id": "4xWNd5HK8kMv"
      },
      "execution_count": null,
      "outputs": []
    },
    {
      "cell_type": "code",
      "source": [
        "y = filter(lambda x : x % 5 == 0, m)"
      ],
      "metadata": {
        "id": "tSofUH0M-R2z"
      },
      "execution_count": null,
      "outputs": []
    },
    {
      "cell_type": "code",
      "source": [
        "for p in y:\n",
        "    print(p)"
      ],
      "metadata": {
        "id": "arbuaUi_-04O"
      },
      "execution_count": null,
      "outputs": []
    },
    {
      "cell_type": "code",
      "source": [
        "for p in y:\n",
        "    print(p)"
      ],
      "metadata": {
        "id": "nn2RoZtd-5Vl"
      },
      "execution_count": null,
      "outputs": []
    },
    {
      "cell_type": "code",
      "source": [
        "y = filter(lambda x : x % 5 == 0, m)\n",
        "print(sum(y))\n",
        "print(sum(y))"
      ],
      "metadata": {
        "id": "Fn7lpzX2-8OG"
      },
      "execution_count": null,
      "outputs": []
    },
    {
      "cell_type": "code",
      "source": [
        "z = list(filter(lambda x : x % 5 == 0, m))\n",
        "print(sum(z))\n",
        "print(sum(z))"
      ],
      "metadata": {
        "id": "Q_H7mWxx_EAy"
      },
      "execution_count": null,
      "outputs": []
    },
    {
      "cell_type": "code",
      "source": [
        "def is_prime(n: int) -> bool:\n",
        "    if n in {2, 3, 5}:\n",
        "        return True\n",
        "    if n % 2 == 0:\n",
        "        return False\n",
        "    r = 3\n",
        "    while r * r <= n:\n",
        "        if n % r == 0:\n",
        "            return False\n",
        "        r += 2\n",
        "    return True"
      ],
      "metadata": {
        "id": "S4cDQe3Z_gEC"
      },
      "execution_count": null,
      "outputs": []
    },
    {
      "cell_type": "markdown",
      "source": [
        "# Post break Discussions\n",
        "## FP\n",
        "## Prime numbers\n"
      ],
      "metadata": {
        "id": "75RNI8fGB9e1"
      }
    },
    {
      "cell_type": "markdown",
      "source": [
        "#map\n",
        "# $S' = \\{\\phi(x) | x \\in S\\}$"
      ],
      "metadata": {
        "id": "vU_0HBW-G6KR"
      }
    },
    {
      "cell_type": "code",
      "source": [
        "map?"
      ],
      "metadata": {
        "id": "eoyDtuiwTLob"
      },
      "execution_count": null,
      "outputs": []
    },
    {
      "cell_type": "code",
      "source": [
        "m"
      ],
      "metadata": {
        "id": "bkO_a7j7TkdH"
      },
      "execution_count": null,
      "outputs": []
    },
    {
      "cell_type": "code",
      "source": [
        "list(map(lambda a: a + 2, m))"
      ],
      "metadata": {
        "id": "j5rszWmiTs5y"
      },
      "execution_count": null,
      "outputs": []
    },
    {
      "cell_type": "code",
      "source": [],
      "metadata": {
        "id": "lZUalxeYT686"
      },
      "execution_count": null,
      "outputs": []
    },
    {
      "cell_type": "markdown",
      "source": [
        "# list comprehension\n",
        "# $S' = \\{\\phi(x) | x \\in S, \\pi(x)\\}$"
      ],
      "metadata": {
        "id": "jChHmDF4Upsn"
      }
    },
    {
      "cell_type": "code",
      "source": [
        "list(map(lambda x: x + 1, filter(lambda z: z % 2 == 0, m)))"
      ],
      "metadata": {
        "id": "4O6jByvyVIzo"
      },
      "execution_count": null,
      "outputs": []
    },
    {
      "cell_type": "code",
      "source": [
        "f = lambda x: x + 1\n",
        "g = lambda x: x % 2 == 0\n",
        "new_m = [f(p) for p in m if g(p)]"
      ],
      "metadata": {
        "id": "FgS4scLqVhyF"
      },
      "execution_count": null,
      "outputs": []
    },
    {
      "cell_type": "code",
      "source": [
        "print(new_m)"
      ],
      "metadata": {
        "id": "brEBzYd2V-_J"
      },
      "execution_count": null,
      "outputs": []
    },
    {
      "cell_type": "markdown",
      "source": [
        "# map vis-a-vis LC\n",
        "\n",
        "#$S' = \\{\\phi(x) | x \\in S \\}$\n",
        "\n",
        "# $map(\\phi, S)$\n",
        "\n",
        "#$[\\phi(\\alpha)~~for~~\\alpha~~in~~S]$"
      ],
      "metadata": {
        "id": "QltYZQjZXL65"
      }
    },
    {
      "cell_type": "markdown",
      "source": [
        "# filter vis_a_vis LC\n",
        "\n",
        "#$S' = \\{x | x \\in S, \\pi(x)\\}$\n",
        "\n",
        "#$filter(\\pi, S)$\n",
        "\n",
        "#$[\\alpha~~for~~\\alpha~~in~~S~~if~~\\pi(\\alpha)]$"
      ],
      "metadata": {
        "id": "8qPD0z-uY26S"
      }
    },
    {
      "cell_type": "markdown",
      "source": [
        "# LC\n",
        "\n",
        "#$S' = \\{\\phi(z)| z \\in S, \\pi(z)\\}$\n",
        "\n",
        "#$map(\\phi, filter(\\pi, S))$\n",
        "\n",
        "#$[\\phi(x)~~for~~x~~in~~S~~if~~\\pi(x)]$"
      ],
      "metadata": {
        "id": "ZK_Ru640Z-KP"
      }
    },
    {
      "cell_type": "code",
      "source": [
        "square = lambda k: k * k\n",
        "even = lambda p: p % 2 == 0"
      ],
      "metadata": {
        "id": "Mhm-oOXoawkL"
      },
      "execution_count": null,
      "outputs": []
    },
    {
      "cell_type": "code",
      "source": [
        "# Probably a coder with FP background\n",
        "print(list(map(square, range(10))))\n",
        "\n",
        "# Newbie. Java/C/C++ programmer\n",
        "squares = []\n",
        "for i in range(10):\n",
        "    squares.append(square(i))\n",
        "print(squares)\n",
        "\n",
        "# Recommended\n",
        "print([square(x) for x in range(10)])"
      ],
      "metadata": {
        "id": "EL3vuiHQbAXb"
      },
      "execution_count": null,
      "outputs": []
    },
    {
      "cell_type": "code",
      "source": [
        "print(list(filter(even, range(10))))\n",
        "evens = []\n",
        "for j in range(10):\n",
        "    if even(j):\n",
        "        evens.append(j)\n",
        "print(evens)\n",
        "print([x for x in range(10) if even(x)])"
      ],
      "metadata": {
        "id": "0S7boUggbO2L"
      },
      "execution_count": null,
      "outputs": []
    },
    {
      "cell_type": "code",
      "source": [],
      "metadata": {
        "id": "qaArjB5ibSKC"
      },
      "execution_count": null,
      "outputs": []
    },
    {
      "cell_type": "markdown",
      "source": [
        "# Problem 2 -- Euler 3\n",
        "\n",
        "The prime factors of 13195 are 5, 7, 13 and 29.\n",
        "\n",
        "What is the largest prime factor of the number\n",
        "600851475143?"
      ],
      "metadata": {
        "id": "D5ybNYVnbWl0"
      }
    },
    {
      "cell_type": "code",
      "source": [
        "def euler003(n: int) -> int:\n",
        "    return max(factorize(n))\n",
        "\n",
        "def factorize(n: int) -> list[int]:\n",
        "    factors = []\n",
        "    loopCount = 0\n",
        "    while n % 2 == 0:\n",
        "        loopCount += 1\n",
        "        factors.append(2)\n",
        "        n //= 2\n",
        "\n",
        "    r = 3\n",
        "    while n > 1:\n",
        "        loopCount += 1\n",
        "        while n % r == 0:\n",
        "            factors.append(r)\n",
        "            n //= r\n",
        "            print(n, factors)\n",
        "        r += 2\n",
        "    print(\"Loop Count\", loopCount)\n",
        "    return factors"
      ],
      "metadata": {
        "id": "GtXD_HkBh-q1"
      },
      "execution_count": null,
      "outputs": []
    },
    {
      "cell_type": "code",
      "source": [
        "factorize(13195)"
      ],
      "metadata": {
        "id": "KO92RUnmirqU"
      },
      "execution_count": null,
      "outputs": []
    },
    {
      "cell_type": "code",
      "source": [
        "factorize(600851475143)"
      ],
      "metadata": {
        "id": "MJPy_ilditeU"
      },
      "execution_count": null,
      "outputs": []
    },
    {
      "cell_type": "code",
      "source": [
        "%time\n",
        "euler003(600851475143)"
      ],
      "metadata": {
        "id": "OKBo4Qw_i-gl"
      },
      "execution_count": null,
      "outputs": []
    },
    {
      "cell_type": "code",
      "source": [
        "set(factorize(81))"
      ],
      "metadata": {
        "id": "UhjpaCV2jnAW"
      },
      "execution_count": null,
      "outputs": []
    },
    {
      "cell_type": "markdown",
      "source": [
        "# Problem 3\n",
        "# Kaprekar's Constant"
      ],
      "metadata": {
        "id": "4vLoqvfrk8y4"
      }
    },
    {
      "cell_type": "code",
      "source": [
        "def num_to_digits(n: int) -> list[int]:\n",
        "    return [int(ch) for ch in str(n)]"
      ],
      "metadata": {
        "id": "k5d6MvQlpSyc"
      },
      "execution_count": null,
      "outputs": []
    },
    {
      "cell_type": "code",
      "source": [
        "num_to_digits(1729)"
      ],
      "metadata": {
        "id": "E3U72SthquMz"
      },
      "execution_count": null,
      "outputs": []
    },
    {
      "cell_type": "code",
      "source": [
        "def digits_to_num(ds: list[int]) -> int:\n",
        "    if len(ds) == 1:\n",
        "        return ds[-1]\n",
        "    elif len(ds) > 1:\n",
        "        return ds[-1] + 10 * digits_to_num(ds[:-1])"
      ],
      "metadata": {
        "id": "tLaIfWz-qwpH"
      },
      "execution_count": null,
      "outputs": []
    },
    {
      "cell_type": "code",
      "source": [
        "digits_to_num([1, 7,2, 9, 5, 1])"
      ],
      "metadata": {
        "id": "DKSMxN_DrDbz"
      },
      "execution_count": null,
      "outputs": []
    },
    {
      "cell_type": "code",
      "source": [
        "digits_to_num(num_to_digits(1278))"
      ],
      "metadata": {
        "id": "HNco_9AFrH-L"
      },
      "execution_count": null,
      "outputs": []
    },
    {
      "cell_type": "code",
      "source": [
        "def largest(n: int) -> int:\n",
        "    return digits_to_num(sorted(num_to_digits(n), reverse=True))\n",
        "\n",
        "def smallest(n: int) -> int:\n",
        "     return digits_to_num(sorted(num_to_digits(n)))"
      ],
      "metadata": {
        "id": "0kO-LcacrWDC"
      },
      "execution_count": null,
      "outputs": []
    },
    {
      "cell_type": "code",
      "source": [
        "largest(1729)"
      ],
      "metadata": {
        "id": "fK91hHBNrrR0"
      },
      "execution_count": null,
      "outputs": []
    },
    {
      "cell_type": "code",
      "source": [
        "smallest(1729)"
      ],
      "metadata": {
        "id": "0wGu09-Drsvk"
      },
      "execution_count": null,
      "outputs": []
    },
    {
      "cell_type": "code",
      "source": [
        "def next_kap(n: int) -> int:\n",
        "    return largest(n) - smallest(n)"
      ],
      "metadata": {
        "id": "aJttFNbxrunU"
      },
      "execution_count": null,
      "outputs": []
    },
    {
      "cell_type": "code",
      "source": [
        "def kap_seq(n: int) -> list[int]:\n",
        "    seq = []\n",
        "    while n not in seq:\n",
        "        seq.append(n)\n",
        "        n = next_kap(n)\n",
        "    return seq\n"
      ],
      "metadata": {
        "id": "odCugLDfr1km"
      },
      "execution_count": null,
      "outputs": []
    },
    {
      "cell_type": "code",
      "source": [
        "print(kap_seq(1729))"
      ],
      "metadata": {
        "id": "y8WxWaIHsZ2t"
      },
      "execution_count": null,
      "outputs": []
    },
    {
      "cell_type": "code",
      "source": [
        "print(kap_seq(1111))"
      ],
      "metadata": {
        "id": "oObVlzZ8scC_"
      },
      "execution_count": null,
      "outputs": []
    },
    {
      "cell_type": "code",
      "source": [
        "print(kap_seq(124))"
      ],
      "metadata": {
        "id": "17SC9pi_tgOV"
      },
      "execution_count": null,
      "outputs": []
    },
    {
      "cell_type": "code",
      "source": [
        "print(kap_seq(172))"
      ],
      "metadata": {
        "id": "167az2t6u-aU"
      },
      "execution_count": null,
      "outputs": []
    },
    {
      "cell_type": "code",
      "source": [
        "954 - 459"
      ],
      "metadata": {
        "id": "zqE6UozJvv_A"
      },
      "execution_count": null,
      "outputs": []
    },
    {
      "cell_type": "code",
      "source": [
        "print(kap_seq(332))"
      ],
      "metadata": {
        "id": "N5b05czev6Iv"
      },
      "execution_count": null,
      "outputs": []
    },
    {
      "cell_type": "code",
      "source": [
        "sorted(str(1729))"
      ],
      "metadata": {
        "id": "TgXgFChgw0CX"
      },
      "execution_count": null,
      "outputs": []
    },
    {
      "cell_type": "code",
      "source": [
        "''.join(sorted(str(1729)))"
      ],
      "metadata": {
        "id": "YgY61Cy8xOuQ"
      },
      "execution_count": null,
      "outputs": []
    },
    {
      "cell_type": "code",
      "source": [
        "int(''.join(sorted(str(1729))))"
      ],
      "metadata": {
        "id": "YK6v447exVJc"
      },
      "execution_count": null,
      "outputs": []
    },
    {
      "cell_type": "code",
      "source": [
        "\"Hello\" [3]"
      ],
      "metadata": {
        "id": "YBDcrJqrxZyP"
      },
      "execution_count": null,
      "outputs": []
    },
    {
      "cell_type": "code",
      "source": [
        "\"Hello\"[3:]"
      ],
      "metadata": {
        "id": "9cfBYhF4xuAA"
      },
      "execution_count": null,
      "outputs": []
    },
    {
      "cell_type": "code",
      "source": [
        "\"Hello\"[:3]"
      ],
      "metadata": {
        "id": "5UDqE-gPxwkL"
      },
      "execution_count": null,
      "outputs": []
    },
    {
      "cell_type": "code",
      "source": [
        "\"Hello\"[2:4]"
      ],
      "metadata": {
        "id": "eCUx4KiVxzHO"
      },
      "execution_count": null,
      "outputs": []
    },
    {
      "cell_type": "code",
      "source": [
        "print(kap_seq(12345))"
      ],
      "metadata": {
        "id": "Yl6daIzUx2NP"
      },
      "execution_count": null,
      "outputs": []
    },
    {
      "cell_type": "code",
      "source": [
        "next_kap(61974)"
      ],
      "metadata": {
        "id": "pgN6xaOxyqsM"
      },
      "execution_count": null,
      "outputs": []
    },
    {
      "cell_type": "code",
      "source": [
        "next_kap(82962)"
      ],
      "metadata": {
        "id": "OCATy8CwyyX_"
      },
      "execution_count": null,
      "outputs": []
    },
    {
      "cell_type": "code",
      "source": [
        "next_kap(75933)"
      ],
      "metadata": {
        "id": "wtGHW9fPy9jn"
      },
      "execution_count": null,
      "outputs": []
    },
    {
      "cell_type": "code",
      "source": [
        "next_kap(63954)"
      ],
      "metadata": {
        "id": "aJvrZZKizADo"
      },
      "execution_count": null,
      "outputs": []
    },
    {
      "cell_type": "code",
      "source": [],
      "metadata": {
        "id": "idBV3klwzCrp"
      },
      "execution_count": null,
      "outputs": []
    }
  ]
}