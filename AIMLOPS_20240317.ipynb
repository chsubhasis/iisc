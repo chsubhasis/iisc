{
  "nbformat": 4,
  "nbformat_minor": 0,
  "metadata": {
    "colab": {
      "private_outputs": true,
      "provenance": [],
      "include_colab_link": true
    },
    "kernelspec": {
      "name": "python3",
      "display_name": "Python 3"
    },
    "language_info": {
      "name": "python"
    }
  },
  "cells": [
    {
      "cell_type": "markdown",
      "metadata": {
        "id": "view-in-github",
        "colab_type": "text"
      },
      "source": [
        "<a href=\"https://colab.research.google.com/github/chsubhasis/iisc/blob/main/AIMLOPS_20240317.ipynb\" target=\"_parent\"><img src=\"https://colab.research.google.com/assets/colab-badge.svg\" alt=\"Open In Colab\"/></a>"
      ]
    },
    {
      "cell_type": "markdown",
      "source": [
        "# Agenda\n",
        "\n",
        "## Splat\n",
        "## counter, defaultdict\n",
        "## __main__\n",
        "## Regex\n",
        "## generators, yield\n",
        "## decorators\n",
        "## Problems/Doubts/Discussions\n",
        "## Exception handling\n",
        "## API -\n",
        "## Lambda\n",
        "## Abstract Base Class\n",
        "## Text Processing in Linux"
      ],
      "metadata": {
        "id": "xVQS072eF726"
      }
    },
    {
      "cell_type": "markdown",
      "source": [
        "# Splat and co"
      ],
      "metadata": {
        "id": "51dB_1LXGS2d"
      }
    },
    {
      "cell_type": "code",
      "source": [
        "s = \"Hello there! Python is interesting!?\""
      ],
      "metadata": {
        "id": "zCj7zoVJHcp7"
      },
      "execution_count": null,
      "outputs": []
    },
    {
      "cell_type": "code",
      "source": [
        "s.split()"
      ],
      "metadata": {
        "id": "yfv_nf9Ef8IZ"
      },
      "execution_count": null,
      "outputs": []
    },
    {
      "cell_type": "code",
      "source": [
        "a = s.split()"
      ],
      "metadata": {
        "id": "scWsyM-Yf9vX"
      },
      "execution_count": null,
      "outputs": []
    },
    {
      "cell_type": "code",
      "source": [
        "a[0]"
      ],
      "metadata": {
        "id": "UDnPTRQagDiM"
      },
      "execution_count": null,
      "outputs": []
    },
    {
      "cell_type": "code",
      "source": [
        "a[2]"
      ],
      "metadata": {
        "id": "bsaOaA4DgE5J"
      },
      "execution_count": null,
      "outputs": []
    },
    {
      "cell_type": "code",
      "source": [
        "p, q, x, y, z = s.split()"
      ],
      "metadata": {
        "id": "MBiR-DiEgFwe"
      },
      "execution_count": null,
      "outputs": []
    },
    {
      "cell_type": "code",
      "source": [
        "p"
      ],
      "metadata": {
        "id": "tIxZUbZzgMRv"
      },
      "execution_count": null,
      "outputs": []
    },
    {
      "cell_type": "code",
      "source": [
        "y"
      ],
      "metadata": {
        "id": "oDEFmo-MgUpG"
      },
      "execution_count": null,
      "outputs": []
    },
    {
      "cell_type": "code",
      "source": [
        "m, n = s.split()"
      ],
      "metadata": {
        "id": "mEwobQwigVLU"
      },
      "execution_count": null,
      "outputs": []
    },
    {
      "cell_type": "code",
      "source": [
        "l5 = [5, 10, 15, 20, 25]"
      ],
      "metadata": {
        "id": "HeYVMYEMgrst"
      },
      "execution_count": null,
      "outputs": []
    },
    {
      "cell_type": "code",
      "source": [
        "p1, q1, r1, s1, t1 = l5"
      ],
      "metadata": {
        "id": "HQWlC4YtgzCT"
      },
      "execution_count": null,
      "outputs": []
    },
    {
      "cell_type": "code",
      "source": [
        "first, *rest = s.split()"
      ],
      "metadata": {
        "id": "WXFvHMklg3Hk"
      },
      "execution_count": null,
      "outputs": []
    },
    {
      "cell_type": "code",
      "source": [
        "first"
      ],
      "metadata": {
        "id": "NeEDfNIDhIEd"
      },
      "execution_count": null,
      "outputs": []
    },
    {
      "cell_type": "code",
      "source": [
        "rest"
      ],
      "metadata": {
        "id": "9Xa__CuKhJYi"
      },
      "execution_count": null,
      "outputs": []
    },
    {
      "cell_type": "code",
      "source": [
        "first, second, *rest = s.split()"
      ],
      "metadata": {
        "id": "dsqEQPI7hKbT"
      },
      "execution_count": null,
      "outputs": []
    },
    {
      "cell_type": "code",
      "source": [
        "first"
      ],
      "metadata": {
        "id": "ZQ_OJcjthrOX"
      },
      "execution_count": null,
      "outputs": []
    },
    {
      "cell_type": "code",
      "source": [
        "second"
      ],
      "metadata": {
        "id": "tZ5SzVV8ht0Q"
      },
      "execution_count": null,
      "outputs": []
    },
    {
      "cell_type": "code",
      "source": [
        "rest"
      ],
      "metadata": {
        "id": "OwDVKsnghubX"
      },
      "execution_count": null,
      "outputs": []
    },
    {
      "cell_type": "code",
      "source": [
        "first, *middle, last = s.split()"
      ],
      "metadata": {
        "id": "AKqxql6vhu-H"
      },
      "execution_count": null,
      "outputs": []
    },
    {
      "cell_type": "code",
      "source": [
        "first"
      ],
      "metadata": {
        "id": "_daCAr-ziQv-"
      },
      "execution_count": null,
      "outputs": []
    },
    {
      "cell_type": "code",
      "source": [
        "middle"
      ],
      "metadata": {
        "id": "bzvDdxQQiV6F"
      },
      "execution_count": null,
      "outputs": []
    },
    {
      "cell_type": "code",
      "source": [
        "s"
      ],
      "metadata": {
        "id": "1vPWJbxwi3vI"
      },
      "execution_count": null,
      "outputs": []
    },
    {
      "cell_type": "code",
      "source": [
        "def f1(s):\n",
        "    print(sum(s))"
      ],
      "metadata": {
        "id": "AwlSzK3Yi46e"
      },
      "execution_count": null,
      "outputs": []
    },
    {
      "cell_type": "code",
      "source": [
        "f1([1, 2, 3,5])"
      ],
      "metadata": {
        "id": "TeFCd9KZlMCz"
      },
      "execution_count": null,
      "outputs": []
    },
    {
      "cell_type": "code",
      "source": [
        "f1(1, 2, 3, 4)"
      ],
      "metadata": {
        "id": "NVIW-ARtlOcI"
      },
      "execution_count": null,
      "outputs": []
    },
    {
      "cell_type": "code",
      "source": [
        "def f2(*t):\n",
        "    return sum(t)"
      ],
      "metadata": {
        "id": "pISgWfNKlQo8"
      },
      "execution_count": null,
      "outputs": []
    },
    {
      "cell_type": "code",
      "source": [
        "f2(1, 2, 3, 4)"
      ],
      "metadata": {
        "id": "CUz0RDPJlbtS"
      },
      "execution_count": null,
      "outputs": []
    },
    {
      "cell_type": "code",
      "source": [
        "def f3(*p):\n",
        "    print(len(p))"
      ],
      "metadata": {
        "id": "NhRjd4D1ldXq"
      },
      "execution_count": null,
      "outputs": []
    },
    {
      "cell_type": "code",
      "source": [
        "f3(1, 2, 3)"
      ],
      "metadata": {
        "id": "jtYlBG_El3QI"
      },
      "execution_count": null,
      "outputs": []
    },
    {
      "cell_type": "code",
      "source": [
        "f3(\"Hello\", \"World\", \"Varargs\", \"are\", \"so easy\")"
      ],
      "metadata": {
        "id": "-B_lXsUil5BX"
      },
      "execution_count": null,
      "outputs": []
    },
    {
      "cell_type": "markdown",
      "source": [
        "# Default dict and Counter"
      ],
      "metadata": {
        "id": "jsaPWvPqmAwm"
      }
    },
    {
      "cell_type": "code",
      "source": [
        "story = '''Long long ago, in a galaxy far far away, the empire was facing a civil war. The\n",
        "empire built a mega ship. The rebels found its blueprint ...'''"
      ],
      "metadata": {
        "id": "UzbYYaKzmzId"
      },
      "execution_count": null,
      "outputs": []
    },
    {
      "cell_type": "code",
      "source": [
        "freq = {}\n",
        "for ch in story:\n",
        "    if ch in freq:\n",
        "        freq[ch] += 1\n",
        "    else:\n",
        "        freq[ch] = 1\n",
        "print(freq)"
      ],
      "metadata": {
        "id": "H7K9_l4GnJxF"
      },
      "execution_count": null,
      "outputs": []
    },
    {
      "cell_type": "code",
      "source": [
        "from collections import defaultdict as ddict"
      ],
      "metadata": {
        "id": "YBsAJ13AnoPL"
      },
      "execution_count": null,
      "outputs": []
    },
    {
      "cell_type": "code",
      "source": [
        "freq = ddict(int)\n",
        "for ch in story:\n",
        "    freq[ch] += 1\n",
        "print(freq)"
      ],
      "metadata": {
        "id": "oWK0bjBcoK8w"
      },
      "execution_count": null,
      "outputs": []
    },
    {
      "cell_type": "markdown",
      "source": [],
      "metadata": {
        "id": "vXdxNSisoo-G"
      }
    },
    {
      "cell_type": "code",
      "source": [
        "words = [\"time\", \"step\", \"rope\", \"emit\", \"bold\", \"item\", \"pest\", \"mite\", \"pore\", \"post\" ]"
      ],
      "metadata": {
        "id": "bIOfht9VoUXn"
      },
      "execution_count": null,
      "outputs": []
    },
    {
      "cell_type": "code",
      "source": [
        "anags = ddict(list)\n",
        "for word in words:\n",
        "    key = ''.join(sorted(word))\n",
        "    anags[key].append(word)\n",
        "print([v for k, v in anags.items() if len(v) > 1])"
      ],
      "metadata": {
        "id": "DwBrZaYcozMo"
      },
      "execution_count": null,
      "outputs": []
    },
    {
      "cell_type": "code",
      "source": [
        "sorted(\"emit\")"
      ],
      "metadata": {
        "id": "SteGdFXjpSgN"
      },
      "execution_count": null,
      "outputs": []
    },
    {
      "cell_type": "code",
      "source": [
        "''.join(sorted(\"emit\"))"
      ],
      "metadata": {
        "id": "j4J1bqNmpxN9"
      },
      "execution_count": null,
      "outputs": []
    },
    {
      "cell_type": "code",
      "source": [
        "'X'.join(sorted(\"emit\"))"
      ],
      "metadata": {
        "id": "C3iOkg_Sp0Zd"
      },
      "execution_count": null,
      "outputs": []
    },
    {
      "cell_type": "code",
      "source": [
        "from collections import Counter"
      ],
      "metadata": {
        "id": "QCPDO-Aip3i0"
      },
      "execution_count": null,
      "outputs": []
    },
    {
      "cell_type": "code",
      "source": [
        "freq = Counter(story)"
      ],
      "metadata": {
        "id": "mAemL45PqAb3"
      },
      "execution_count": null,
      "outputs": []
    },
    {
      "cell_type": "code",
      "source": [
        "freq.most_common(5)"
      ],
      "metadata": {
        "id": "G__Ud0g_qFWP"
      },
      "execution_count": null,
      "outputs": []
    },
    {
      "cell_type": "code",
      "source": [
        "freq.items()"
      ],
      "metadata": {
        "id": "HpfbwjdrqJhv"
      },
      "execution_count": null,
      "outputs": []
    },
    {
      "cell_type": "markdown",
      "source": [
        "# __main__"
      ],
      "metadata": {
        "id": "VISjJ_HRqNal"
      }
    },
    {
      "cell_type": "markdown",
      "source": [
        "# lambda"
      ],
      "metadata": {
        "id": "BR1baqxQwb_2"
      }
    },
    {
      "cell_type": "code",
      "source": [
        "def even(n: int) -> bool:\n",
        "    return n % 2 == 0"
      ],
      "metadata": {
        "id": "e1VvIL6hwj6l"
      },
      "execution_count": null,
      "outputs": []
    },
    {
      "cell_type": "code",
      "source": [
        "list(filter(even, [2, 7,8, 3, 6, 6]))"
      ],
      "metadata": {
        "id": "VaDFR728wtFW"
      },
      "execution_count": null,
      "outputs": []
    },
    {
      "cell_type": "code",
      "source": [
        "list(filter(lambda k: k % 2 == 0, [2, 7, 8, 3, 6, 6]))"
      ],
      "metadata": {
        "id": "ZFe2hRJdwyBV"
      },
      "execution_count": null,
      "outputs": []
    },
    {
      "cell_type": "code",
      "source": [
        "odd = lambda p: p % 2 == 1"
      ],
      "metadata": {
        "id": "pvHdP135w8YM"
      },
      "execution_count": null,
      "outputs": []
    },
    {
      "cell_type": "code",
      "source": [
        "half_even = lambda g: g // 2 if g % 2 == 0 else g + 1"
      ],
      "metadata": {
        "id": "HM_GP_0YxErm"
      },
      "execution_count": null,
      "outputs": []
    },
    {
      "cell_type": "code",
      "source": [
        "half_even(7)"
      ],
      "metadata": {
        "id": "kTQ-mzovx8sq"
      },
      "execution_count": null,
      "outputs": []
    },
    {
      "cell_type": "code",
      "source": [
        "half_even(8)"
      ],
      "metadata": {
        "id": "anvaSfbux-RE"
      },
      "execution_count": null,
      "outputs": []
    },
    {
      "cell_type": "code",
      "source": [
        "list(map(lambda z: z//2 if z % 2 == 0 else z + 1, [2, 7, 8, 3, 6, 6]))"
      ],
      "metadata": {
        "id": "RhHLL5Zsx_u-"
      },
      "execution_count": null,
      "outputs": []
    },
    {
      "cell_type": "code",
      "source": [
        "def calc_discount(discount_type, amount, params):\n",
        "    return discount_type(amount, params)\n",
        "\n"
      ],
      "metadata": {
        "id": "s3Qj2QD0ybtk"
      },
      "execution_count": null,
      "outputs": []
    },
    {
      "cell_type": "code",
      "source": [
        "from functools import reduce\n",
        "def digits_to_number(digits: list[int]) -> int:\n",
        "    return reduce(lambda x, y: 10 * x + y, digits)\n"
      ],
      "metadata": {
        "id": "hzrRYzD3zl9V"
      },
      "execution_count": null,
      "outputs": []
    },
    {
      "cell_type": "code",
      "source": [
        "digits_to_number([1, 7, 2, 9])"
      ],
      "metadata": {
        "id": "WVPtU7Soz7vp"
      },
      "execution_count": null,
      "outputs": []
    },
    {
      "cell_type": "markdown",
      "source": [],
      "metadata": {
        "id": "WzqJwzMnz_ar"
      }
    },
    {
      "cell_type": "code",
      "source": [
        "demo1 = open(\"demo.txt\").readlines()\n",
        "demo2 = open(\"2demo.txt\").readlines()"
      ],
      "metadata": {
        "id": "tEunq6xZ1atl"
      },
      "execution_count": null,
      "outputs": []
    },
    {
      "cell_type": "code",
      "source": [
        "demo1"
      ],
      "metadata": {
        "id": "YGFfdtRj_VnC"
      },
      "execution_count": null,
      "outputs": []
    },
    {
      "cell_type": "code",
      "source": [
        "demo12 = demo1 + demo2"
      ],
      "metadata": {
        "id": "F8QqxA2t_WhR"
      },
      "execution_count": null,
      "outputs": []
    },
    {
      "cell_type": "code",
      "source": [
        "demo12"
      ],
      "metadata": {
        "id": "aAsnnFSl_acC"
      },
      "execution_count": null,
      "outputs": []
    },
    {
      "cell_type": "code",
      "source": [
        "import re"
      ],
      "metadata": {
        "id": "AjDW1d8B_bKp"
      },
      "execution_count": null,
      "outputs": []
    },
    {
      "cell_type": "code",
      "source": [
        "story"
      ],
      "metadata": {
        "id": "BMD8weLuADub"
      },
      "execution_count": null,
      "outputs": []
    },
    {
      "cell_type": "code",
      "source": [
        "pat = re.compile(\"[,.]\")"
      ],
      "metadata": {
        "id": "vnJMgMxLAsGJ"
      },
      "execution_count": null,
      "outputs": []
    },
    {
      "cell_type": "code",
      "source": [
        "pat.split(story)"
      ],
      "metadata": {
        "id": "-3S6DVPLBFGo"
      },
      "execution_count": null,
      "outputs": []
    },
    {
      "cell_type": "code",
      "source": [
        "dates = [\"17 Jan, 2014\", \"7, Mar 2012\", \"14,Feb 2001\", \"29 Apr 2008\", \"14,Dec,1997\"]"
      ],
      "metadata": {
        "id": "U58uYZxDBIP0"
      },
      "execution_count": null,
      "outputs": []
    },
    {
      "cell_type": "code",
      "source": [
        "pat = re.compile(\"[ ,]\")"
      ],
      "metadata": {
        "id": "qJ65DctKBgpA"
      },
      "execution_count": null,
      "outputs": []
    },
    {
      "cell_type": "code",
      "source": [
        "[pat.split(d) for d in dates]"
      ],
      "metadata": {
        "id": "5c80Iy33Btef"
      },
      "execution_count": null,
      "outputs": []
    },
    {
      "cell_type": "code",
      "source": [
        "with_html = '''<h2>Amicable Numbers</h2><div id=\"problem_icons\" class=\"noprint\"><a href=\"minimal=21\"><img src=\"images/icons/file_html.png\" title=\"Show HTML problem content\" class=\"icon\"></a>&nbsp;<span class=\"tooltip\"><img src=\"images/icons/info.png\" class=\"icon\"><span class=\"tooltiptext_right\">Published on Friday, 5th July 2002, 06:00 pm; Solved by 153985;<br>Difficulty rating: 5%</span></span></div><div id=\"problem_info\"><h3>Problem 21</h3></div>\n",
        "<div class=\"problem_content\" role=\"problem\">\n",
        "<p>Let $d(n)$ be defined as the sum of proper divisors of $n$ (numbers less than $n$ which divide evenly into $n$).<br>\n",
        "If $d(a) = b$ and $d(b) = a$, where $a \\ne b$, then $a$ and $b$ are an amicable pair and each of $a$ and $b$ are called amicable numbers.</p>\n",
        "<p>For example, the proper divisors of $220$ are $1, 2, 4, 5, 10, 11, 20, 22, 44, 55$ and $110$; therefore $d(220) = 284$. The proper divisors of $284$ are $1, 2, 4, 71$ and $142$; so $d(284) = 220$.</p>\n",
        "<p>Evaluate the sum of all the amicable numbers under $10000$.</p>'''"
      ],
      "metadata": {
        "id": "LB7A53KSBxDN"
      },
      "execution_count": null,
      "outputs": []
    },
    {
      "cell_type": "code",
      "source": [
        "html_tag = re.compile(\"<.*>\")"
      ],
      "metadata": {
        "id": "s5Pi4sDqEZuf"
      },
      "execution_count": null,
      "outputs": []
    },
    {
      "cell_type": "code",
      "source": [
        "len(html_tag.findall(with_html))"
      ],
      "metadata": {
        "id": "_wnN_-CsFNNd"
      },
      "execution_count": null,
      "outputs": []
    },
    {
      "cell_type": "code",
      "source": [
        "html_tag.findall(with_html)[0]"
      ],
      "metadata": {
        "id": "DgA_bv45FdWk"
      },
      "execution_count": null,
      "outputs": []
    },
    {
      "cell_type": "code",
      "source": [
        "html_tag2 = re.compile(\"<[^>]*>\")"
      ],
      "metadata": {
        "id": "j6RasZn-Fpow"
      },
      "execution_count": null,
      "outputs": []
    },
    {
      "cell_type": "code",
      "source": [
        "html_tag2.findall(with_html)"
      ],
      "metadata": {
        "id": "-a9jY_kvGBC2"
      },
      "execution_count": null,
      "outputs": []
    },
    {
      "cell_type": "code",
      "source": [
        "headings = re.compile(\"<h[^>]*>\")"
      ],
      "metadata": {
        "id": "Mx2vlIyMGFkd"
      },
      "execution_count": null,
      "outputs": []
    },
    {
      "cell_type": "code",
      "source": [
        "headings.findall(with_html)"
      ],
      "metadata": {
        "id": "xyiRZ1WkGxFM"
      },
      "execution_count": null,
      "outputs": []
    },
    {
      "cell_type": "code",
      "source": [
        "headings = re.compile(\"<[/h][^>]*>\")"
      ],
      "metadata": {
        "id": "PblQIM-LG0C8"
      },
      "execution_count": null,
      "outputs": []
    },
    {
      "cell_type": "code",
      "source": [
        "headings.findall(with_html)"
      ],
      "metadata": {
        "id": "OqOKTo37G--N"
      },
      "execution_count": null,
      "outputs": []
    },
    {
      "cell_type": "code",
      "source": [
        "headings = re.compile(\"</?h[^>]*>\")"
      ],
      "metadata": {
        "id": "mv5R7T66HBec"
      },
      "execution_count": null,
      "outputs": []
    },
    {
      "cell_type": "code",
      "source": [
        "headings.findall(with_html)"
      ],
      "metadata": {
        "id": "iwnWJqSoHP1D"
      },
      "execution_count": null,
      "outputs": []
    },
    {
      "cell_type": "code",
      "source": [
        "hs = re.compile(\"</?h\\d>\") # \"</?h[1-9]>\""
      ],
      "metadata": {
        "id": "h6uvrU4mHR28"
      },
      "execution_count": null,
      "outputs": []
    },
    {
      "cell_type": "code",
      "source": [
        "hs.findall(with_html)"
      ],
      "metadata": {
        "id": "BV8Cp1PiHoQL"
      },
      "execution_count": null,
      "outputs": []
    },
    {
      "cell_type": "markdown",
      "source": [
        "# Generators/yield"
      ],
      "metadata": {
        "id": "XiIDJWowHqGS"
      }
    },
    {
      "cell_type": "code",
      "source": [
        "def fibs(N):\n",
        "    a, b = 0, 1\n",
        "    count = 0\n",
        "    while count < N:\n",
        "        return a\n",
        "        a, b = b, a+b\n",
        "        count += 1"
      ],
      "metadata": {
        "id": "KgzX7ZE1IMRB"
      },
      "execution_count": null,
      "outputs": []
    },
    {
      "cell_type": "code",
      "source": [
        "fibs(12)"
      ],
      "metadata": {
        "id": "QC6iJD4JJKL3"
      },
      "execution_count": null,
      "outputs": []
    },
    {
      "cell_type": "code",
      "source": [
        "def fibs():\n",
        "    a, b = 0, 1\n",
        "    while True:\n",
        "        yield a\n",
        "        a, b = b, a+b"
      ],
      "metadata": {
        "id": "-WXi41lkJLyF"
      },
      "execution_count": null,
      "outputs": []
    },
    {
      "cell_type": "code",
      "source": [
        "for i, f in enumerate(fibs()):\n",
        "    print(f'the {i}th Fibonacci number is {f}')\n",
        "    if i > 10:\n",
        "        break"
      ],
      "metadata": {
        "id": "GcnC8CVoKQxQ"
      },
      "execution_count": null,
      "outputs": []
    },
    {
      "cell_type": "code",
      "source": [
        "a = fibs()\n",
        "b = fibs()"
      ],
      "metadata": {
        "id": "H-ZPpdEqKkp4"
      },
      "execution_count": null,
      "outputs": []
    },
    {
      "cell_type": "code",
      "source": [
        "for i, f in enumerate(a):\n",
        "    print(f'the {i}th Fibonacci number is {f}')\n",
        "    if i > 10:\n",
        "        break"
      ],
      "metadata": {
        "id": "VLG0Gb-vK0Wf"
      },
      "execution_count": null,
      "outputs": []
    },
    {
      "cell_type": "code",
      "source": [
        "for i, f in enumerate(b):\n",
        "    print(f'the {i}th Fibonacci number is {f}')\n",
        "    if i > 5:\n",
        "        break"
      ],
      "metadata": {
        "id": "RHh9CIcvK5Ns"
      },
      "execution_count": null,
      "outputs": []
    },
    {
      "cell_type": "code",
      "source": [
        "for i, f in enumerate(b):\n",
        "    print(f'the {i}th Fibonacci number is {f}')\n",
        "    if i > 5:\n",
        "        break"
      ],
      "metadata": {
        "id": "yPr3gRRkK9Z_"
      },
      "execution_count": null,
      "outputs": []
    },
    {
      "cell_type": "code",
      "source": [
        "def fib2(limit: int) -> int:\n",
        "    a, b = 0, 1\n",
        "    count = 0\n",
        "    while count < limit:\n",
        "        a, b = b, a+b\n",
        "        yield a\n",
        "        count += 1\n"
      ],
      "metadata": {
        "id": "7CwTLW8VLCAP"
      },
      "execution_count": null,
      "outputs": []
    },
    {
      "cell_type": "code",
      "source": [
        "ten = fib2(10)"
      ],
      "metadata": {
        "id": "jls8W3GeMej0"
      },
      "execution_count": null,
      "outputs": []
    },
    {
      "cell_type": "code",
      "source": [
        "twenty = fib2(20)"
      ],
      "metadata": {
        "id": "hE9YWlN9Mhgl"
      },
      "execution_count": null,
      "outputs": []
    },
    {
      "cell_type": "code",
      "source": [
        "print(sum(ten))"
      ],
      "metadata": {
        "id": "lu5Pu_3UMjuv"
      },
      "execution_count": null,
      "outputs": []
    },
    {
      "cell_type": "code",
      "source": [
        "print(sum(ten))"
      ],
      "metadata": {
        "id": "H_mHiTVEMmjf"
      },
      "execution_count": null,
      "outputs": []
    },
    {
      "cell_type": "code",
      "source": [
        "odds = filter(lambda l: l % 2 == 1, range(12))"
      ],
      "metadata": {
        "id": "XQ7P6PdHMo78"
      },
      "execution_count": null,
      "outputs": []
    },
    {
      "cell_type": "code",
      "source": [
        "sum(odds)"
      ],
      "metadata": {
        "id": "4p8uAKbmNx9r"
      },
      "execution_count": null,
      "outputs": []
    },
    {
      "cell_type": "code",
      "source": [
        "sum(odds)"
      ],
      "metadata": {
        "id": "pmSpkwDxNzPx"
      },
      "execution_count": null,
      "outputs": []
    },
    {
      "cell_type": "code",
      "source": [
        "five = fib2(5)"
      ],
      "metadata": {
        "id": "gBwpr_ScN0lg"
      },
      "execution_count": null,
      "outputs": []
    },
    {
      "cell_type": "code",
      "source": [
        "next(five)"
      ],
      "metadata": {
        "id": "504gUuMgOMEn"
      },
      "execution_count": null,
      "outputs": []
    },
    {
      "cell_type": "code",
      "source": [
        "next(five)"
      ],
      "metadata": {
        "id": "xuh2w22GOOHX"
      },
      "execution_count": null,
      "outputs": []
    },
    {
      "cell_type": "code",
      "source": [
        "next(five)"
      ],
      "metadata": {
        "id": "N421ToC-OPts"
      },
      "execution_count": null,
      "outputs": []
    },
    {
      "cell_type": "code",
      "source": [
        "next(five)"
      ],
      "metadata": {
        "id": "y43CjlV_ORL9"
      },
      "execution_count": null,
      "outputs": []
    },
    {
      "cell_type": "code",
      "source": [
        "next(five)"
      ],
      "metadata": {
        "id": "51H-fsSWOScm"
      },
      "execution_count": null,
      "outputs": []
    },
    {
      "cell_type": "code",
      "source": [
        "next(five)"
      ],
      "metadata": {
        "id": "YfXcWYKkOTwZ"
      },
      "execution_count": null,
      "outputs": []
    },
    {
      "cell_type": "code",
      "source": [
        "zip(range(10), \"ABCDEFGHIJKL\")"
      ],
      "metadata": {
        "id": "Fjm8GeGZOVK4"
      },
      "execution_count": null,
      "outputs": []
    },
    {
      "cell_type": "code",
      "source": [
        "nap = zip(range(10), \"ABCDEFGHIJKL\")"
      ],
      "metadata": {
        "id": "-MWdnoCXO5fm"
      },
      "execution_count": null,
      "outputs": []
    },
    {
      "cell_type": "code",
      "source": [
        "next(nap)"
      ],
      "metadata": {
        "id": "9OorisQfO_Vn"
      },
      "execution_count": null,
      "outputs": []
    },
    {
      "cell_type": "code",
      "source": [
        "next(nap)"
      ],
      "metadata": {
        "id": "A81CANOvPAde"
      },
      "execution_count": null,
      "outputs": []
    },
    {
      "cell_type": "code",
      "source": [
        "next(nap)"
      ],
      "metadata": {
        "id": "xozcCdYqPBS0"
      },
      "execution_count": null,
      "outputs": []
    },
    {
      "cell_type": "code",
      "source": [
        "next(nap)"
      ],
      "metadata": {
        "id": "IcLZVS4LPDRE"
      },
      "execution_count": null,
      "outputs": []
    },
    {
      "cell_type": "code",
      "source": [
        "next(nap)"
      ],
      "metadata": {
        "id": "QRppJ7xNPFGF"
      },
      "execution_count": null,
      "outputs": []
    },
    {
      "cell_type": "code",
      "source": [
        "next(nap)"
      ],
      "metadata": {
        "id": "3iM3D8dTPGcl"
      },
      "execution_count": null,
      "outputs": []
    },
    {
      "cell_type": "code",
      "source": [
        "next(nap)"
      ],
      "metadata": {
        "id": "lB3RgxEsPHSs"
      },
      "execution_count": null,
      "outputs": []
    },
    {
      "cell_type": "code",
      "source": [
        "next(nap)"
      ],
      "metadata": {
        "id": "rgVazE3sPIGk"
      },
      "execution_count": null,
      "outputs": []
    },
    {
      "cell_type": "code",
      "source": [
        "next(nap)"
      ],
      "metadata": {
        "id": "uy6oh240PI_8"
      },
      "execution_count": null,
      "outputs": []
    },
    {
      "cell_type": "code",
      "source": [
        "next(nap)"
      ],
      "metadata": {
        "id": "C1jUc6PGPJ68"
      },
      "execution_count": null,
      "outputs": []
    },
    {
      "cell_type": "code",
      "source": [
        "next(nap)"
      ],
      "metadata": {
        "id": "3H8QQgblPLC0"
      },
      "execution_count": null,
      "outputs": []
    },
    {
      "cell_type": "code",
      "source": [
        "f = open(\"demo3.txt\")"
      ],
      "metadata": {
        "id": "7iiYE-p-PL4s"
      },
      "execution_count": null,
      "outputs": []
    },
    {
      "cell_type": "code",
      "source": [
        "try:\n",
        "    f = open(\"demo3.txt\")\n",
        "except:\n",
        "    print(\"call the police! File is gone!!\")"
      ],
      "metadata": {
        "id": "XpuP0jbrPwPU"
      },
      "execution_count": null,
      "outputs": []
    },
    {
      "cell_type": "markdown",
      "source": [
        "# Decorator"
      ],
      "metadata": {
        "id": "HLiic8YjP8At"
      }
    },
    {
      "cell_type": "code",
      "source": [
        "def add_one(n: int) -> int:\n",
        "    return n + 1"
      ],
      "metadata": {
        "id": "8xLcnh9NSKBF"
      },
      "execution_count": null,
      "outputs": []
    },
    {
      "cell_type": "code",
      "source": [
        "@decorate\n",
        "def add_one(n: int) -> int:\n",
        "    return n + 1"
      ],
      "metadata": {
        "id": "y6yCTRrfS2yl"
      },
      "execution_count": null,
      "outputs": []
    },
    {
      "cell_type": "code",
      "source": [
        "add_one = decorate(add_one)"
      ],
      "metadata": {
        "id": "6SON6Ua2TDjr"
      },
      "execution_count": null,
      "outputs": []
    },
    {
      "cell_type": "code",
      "source": [
        "\n",
        "def fibgen(n: int) -> int:\n",
        "    if n == 0:\n",
        "        return 0\n",
        "    elif n == 1:\n",
        "        return 1\n",
        "    else:\n",
        "        return fibgen(n-2) + fibgen(n-1)"
      ],
      "metadata": {
        "id": "ZqZFzAYWThiv"
      },
      "execution_count": null,
      "outputs": []
    },
    {
      "cell_type": "code",
      "source": [
        "%%timeit\n",
        "print(fibgen(25))"
      ],
      "metadata": {
        "id": "eCyYQXxiT0Gx"
      },
      "execution_count": null,
      "outputs": []
    },
    {
      "cell_type": "code",
      "source": [
        "from functools import lru_cache\n",
        "@lru_cache\n",
        "def fibgen2(n: int) -> int:\n",
        "    if n == 0:\n",
        "        return 0\n",
        "    elif n == 1:\n",
        "        return 1\n",
        "    else:\n",
        "        return fibgen(n-2) + fibgen(n-1)"
      ],
      "metadata": {
        "id": "gF6T0C_dUF4I"
      },
      "execution_count": null,
      "outputs": []
    },
    {
      "cell_type": "code",
      "source": [
        "%%timeit\n",
        "print(fibgen2(25))"
      ],
      "metadata": {
        "id": "BmbMNL0CUqJl"
      },
      "execution_count": null,
      "outputs": []
    },
    {
      "cell_type": "code",
      "source": [
        "def logger(func):\n",
        "    def wrapper():\n",
        "        print(\"Called\", func.__name__)\n",
        "        return func()\n",
        "    return wrapper"
      ],
      "metadata": {
        "id": "SQZvgXbgU6Vy"
      },
      "execution_count": null,
      "outputs": []
    },
    {
      "cell_type": "code",
      "source": [
        "def greet():\n",
        "    print(\"Hello\")"
      ],
      "metadata": {
        "id": "dyi5KJMEX9da"
      },
      "execution_count": null,
      "outputs": []
    },
    {
      "cell_type": "code",
      "source": [
        "greet()"
      ],
      "metadata": {
        "id": "ngRSldAUYGOk"
      },
      "execution_count": null,
      "outputs": []
    },
    {
      "cell_type": "code",
      "source": [
        "@logger\n",
        "def hail():\n",
        "    print(\"Hello\")"
      ],
      "metadata": {
        "id": "Zht-Az3HYHqD"
      },
      "execution_count": null,
      "outputs": []
    },
    {
      "cell_type": "code",
      "source": [
        "hail()"
      ],
      "metadata": {
        "id": "PkvYkMjqYMxU"
      },
      "execution_count": null,
      "outputs": []
    },
    {
      "cell_type": "markdown",
      "source": [
        "#$\\Sigma \\frac{({x_i-\\mu})^2}{n}$"
      ],
      "metadata": {
        "id": "Xb-IMPabYPEt"
      }
    },
    {
      "cell_type": "code",
      "source": [],
      "metadata": {
        "id": "K7dswC5sbAuo"
      },
      "execution_count": null,
      "outputs": []
    }
  ]
}