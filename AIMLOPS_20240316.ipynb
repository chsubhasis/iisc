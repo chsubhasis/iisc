{
  "nbformat": 4,
  "nbformat_minor": 0,
  "metadata": {
    "colab": {
      "private_outputs": true,
      "provenance": [],
      "include_colab_link": true
    },
    "kernelspec": {
      "name": "python3",
      "display_name": "Python 3"
    },
    "language_info": {
      "name": "python"
    }
  },
  "cells": [
    {
      "cell_type": "markdown",
      "metadata": {
        "id": "view-in-github",
        "colab_type": "text"
      },
      "source": [
        "<a href=\"https://colab.research.google.com/github/chsubhasis/iisc/blob/main/AIMLOPS_20240316.ipynb\" target=\"_parent\"><img src=\"https://colab.research.google.com/assets/colab-badge.svg\" alt=\"Open In Colab\"/></a>"
      ]
    },
    {
      "cell_type": "code",
      "execution_count": null,
      "metadata": {
        "id": "9c200d3AScRF"
      },
      "outputs": [],
      "source": [
        "for line in open(\"/content/filedemo.txt\"):\n",
        "    print(line)"
      ]
    },
    {
      "cell_type": "code",
      "source": [
        "for line in open(\"/content/filedemo.txt\"):\n",
        "    print(line, end=\"\")"
      ],
      "metadata": {
        "id": "2cVBoZyDaIUd"
      },
      "execution_count": null,
      "outputs": []
    },
    {
      "cell_type": "code",
      "source": [
        "for line in open(\"filedemo.txt\"):\n",
        "    num, name = line.strip().split()\n",
        "    print(f'{num} is called {name}')"
      ],
      "metadata": {
        "id": "VsTq5P9Aae1D"
      },
      "execution_count": null,
      "outputs": []
    },
    {
      "cell_type": "code",
      "source": [
        "with open(\"filedemo.txt\") as f:\n",
        "    for line in f:\n",
        "        num, name = line.strip().split()\n",
        "        print(f'{num} is {name}')"
      ],
      "metadata": {
        "id": "RzlVqTlZbre_"
      },
      "execution_count": null,
      "outputs": []
    },
    {
      "cell_type": "code",
      "source": [
        "whole = open(\"filedemo.txt\").readlines()"
      ],
      "metadata": {
        "id": "InwzsMUscQCH"
      },
      "execution_count": null,
      "outputs": []
    },
    {
      "cell_type": "code",
      "source": [
        "print(whole)"
      ],
      "metadata": {
        "id": "WnnJyqYlerAp"
      },
      "execution_count": null,
      "outputs": []
    },
    {
      "cell_type": "code",
      "source": [
        "!wc -l ghw.csv"
      ],
      "metadata": {
        "id": "sSTweOZ5esKD"
      },
      "execution_count": null,
      "outputs": []
    },
    {
      "cell_type": "code",
      "source": [
        "!head ghw.csv"
      ],
      "metadata": {
        "id": "GaI8u9QshWJY"
      },
      "execution_count": null,
      "outputs": []
    },
    {
      "cell_type": "code",
      "source": [
        "!tail ghw.csv"
      ],
      "metadata": {
        "id": "g1s29M_ehZDF"
      },
      "execution_count": null,
      "outputs": []
    },
    {
      "cell_type": "code",
      "source": [
        "!grep \"Female\" ghw.csv | wc -l"
      ],
      "metadata": {
        "id": "ERR3x2OZhf94"
      },
      "execution_count": null,
      "outputs": []
    },
    {
      "cell_type": "code",
      "source": [
        "FIRST_LINE = True\n",
        "data = []\n",
        "COMMA, QUOTE = ',', '\"'\n",
        "for line in open(\"ghw.csv\"):\n",
        "    if FIRST_LINE:\n",
        "        FIRST_LINE = False\n",
        "    else:\n",
        "        data.append(line)"
      ],
      "metadata": {
        "id": "o17wXbSbjP3n"
      },
      "execution_count": null,
      "outputs": []
    },
    {
      "cell_type": "code",
      "source": [
        "data[:10]"
      ],
      "metadata": {
        "id": "dh8r0tBRj0Ok"
      },
      "execution_count": null,
      "outputs": []
    },
    {
      "cell_type": "code",
      "source": [
        "data[-10:]"
      ],
      "metadata": {
        "id": "mzCtUYAIj1gD"
      },
      "execution_count": null,
      "outputs": []
    },
    {
      "cell_type": "code",
      "source": [
        "FIRST_LINE = True\n",
        "data = []\n",
        "COMMA, QUOTE = ',', '\"'\n",
        "for line in open(\"ghw.csv\"):\n",
        "    if FIRST_LINE:\n",
        "        FIRST_LINE = False\n",
        "    else:\n",
        "        g, h, w = line.strip().split(COMMA)\n",
        "        data.append((g, h, w))"
      ],
      "metadata": {
        "id": "cu_YNRTtj5rA"
      },
      "execution_count": null,
      "outputs": []
    },
    {
      "cell_type": "code",
      "source": [
        "data[:10]"
      ],
      "metadata": {
        "id": "OGuUMjAIkLN_"
      },
      "execution_count": null,
      "outputs": []
    },
    {
      "cell_type": "code",
      "source": [
        "data[-10:]"
      ],
      "metadata": {
        "id": "Ld1hkNynkMPp"
      },
      "execution_count": null,
      "outputs": []
    },
    {
      "cell_type": "code",
      "source": [
        "FIRST_LINE = True\n",
        "data = []\n",
        "COMMA, QUOTE = ',', '\"'\n",
        "for line in open(\"ghw.csv\"):\n",
        "    if FIRST_LINE:\n",
        "        FIRST_LINE = False\n",
        "    else:\n",
        "        raw_g, raw_h, raw_w = line.strip().split(COMMA)\n",
        "        g = raw_g.strip(QUOTE)\n",
        "        h = float(raw_h)\n",
        "        w = float(raw_w)\n",
        "        data.append([g, h, w])"
      ],
      "metadata": {
        "id": "enWRemDCkN5W"
      },
      "execution_count": null,
      "outputs": []
    },
    {
      "cell_type": "code",
      "source": [
        "data[:10]"
      ],
      "metadata": {
        "id": "8GgE6nuAkkG-"
      },
      "execution_count": null,
      "outputs": []
    },
    {
      "cell_type": "code",
      "source": [
        "data[-10:]"
      ],
      "metadata": {
        "id": "vjVdaEsaklSv"
      },
      "execution_count": null,
      "outputs": []
    },
    {
      "cell_type": "code",
      "source": [
        "FIRST_LINE = True\n",
        "data = []\n",
        "COMMA, QUOTE = ',', '\"'\n",
        "IN2CM, LB2KG = 2.54, 0.454\n",
        "for line in open(\"ghw.csv\"):\n",
        "    if FIRST_LINE:\n",
        "        FIRST_LINE = False\n",
        "    else:\n",
        "        raw_g, raw_h, raw_w = line.strip().split(COMMA)\n",
        "        g = raw_g.strip(QUOTE)\n",
        "        h = int(float(raw_h) * IN2CM + 0.5)\n",
        "        w = int(float(raw_w) * LB2KG + 0.5)\n",
        "        data.append((g, h, w))"
      ],
      "metadata": {
        "id": "2vgvfCZLkmyu"
      },
      "execution_count": null,
      "outputs": []
    },
    {
      "cell_type": "code",
      "source": [
        "data[:10]"
      ],
      "metadata": {
        "id": "xAsEYGyzlwO4"
      },
      "execution_count": null,
      "outputs": []
    },
    {
      "cell_type": "code",
      "source": [
        "import pandas as pd"
      ],
      "metadata": {
        "id": "uEIQ3Evylxyj"
      },
      "execution_count": null,
      "outputs": []
    },
    {
      "cell_type": "code",
      "source": [
        "data = pd.read_csv(\"ghw.csv\")"
      ],
      "metadata": {
        "id": "h812IpDzmHxR"
      },
      "execution_count": null,
      "outputs": []
    },
    {
      "cell_type": "code",
      "source": [
        "data"
      ],
      "metadata": {
        "id": "1pPT3q7kmMqL"
      },
      "execution_count": null,
      "outputs": []
    },
    {
      "cell_type": "code",
      "source": [
        "data.Gender"
      ],
      "metadata": {
        "id": "4WK5bYgjmNUr"
      },
      "execution_count": null,
      "outputs": []
    },
    {
      "cell_type": "code",
      "source": [
        "data.Height"
      ],
      "metadata": {
        "id": "TuyKqnmdmZCX"
      },
      "execution_count": null,
      "outputs": []
    },
    {
      "cell_type": "code",
      "source": [
        "type(data.Height[0])"
      ],
      "metadata": {
        "id": "3eep4AJomd7n"
      },
      "execution_count": null,
      "outputs": []
    },
    {
      "cell_type": "code",
      "source": [
        "type(data)"
      ],
      "metadata": {
        "id": "QZF4Ttypmn31"
      },
      "execution_count": null,
      "outputs": []
    },
    {
      "cell_type": "code",
      "source": [
        "IN2CM, LB2KG = 2.54, 0.454\n",
        "def in2cm(s: str) -> int:\n",
        "    return int(0.5 + float(s) * IN2CM)\n",
        "def lb2kg(s: str) -> int:\n",
        "    return int(0.5 + float(s) * LB2KG)\n",
        "data = pd.read_csv(\"ghw.csv\", converters={\"Height\":in2cm, \"Weight\":lb2kg})"
      ],
      "metadata": {
        "id": "Wmk0zgw_nKKK"
      },
      "execution_count": null,
      "outputs": []
    },
    {
      "cell_type": "code",
      "source": [
        "data"
      ],
      "metadata": {
        "id": "QRZkeL56pn6C"
      },
      "execution_count": null,
      "outputs": []
    },
    {
      "cell_type": "code",
      "source": [
        "pd.read_csv?"
      ],
      "metadata": {
        "id": "tOxdd1-rpq_K"
      },
      "execution_count": null,
      "outputs": []
    },
    {
      "cell_type": "code",
      "source": [
        "round?"
      ],
      "metadata": {
        "id": "KtoDJz8OqFDw"
      },
      "execution_count": null,
      "outputs": []
    },
    {
      "cell_type": "code",
      "source": [
        "round(2.5)"
      ],
      "metadata": {
        "id": "bJU4bfkCrjcG"
      },
      "execution_count": null,
      "outputs": []
    },
    {
      "cell_type": "code",
      "source": [
        "pd.read"
      ],
      "metadata": {
        "id": "oCLKJKiSrwmy"
      },
      "execution_count": null,
      "outputs": []
    },
    {
      "cell_type": "code",
      "source": [
        "data.to_csv(\"processed.ghw.csv\")"
      ],
      "metadata": {
        "id": "YzxkJx-asPf7"
      },
      "execution_count": null,
      "outputs": []
    },
    {
      "cell_type": "code",
      "source": [
        "data.to_excel(\"processed.ghw.xls\")"
      ],
      "metadata": {
        "id": "cy7PNzX8sekf"
      },
      "execution_count": null,
      "outputs": []
    },
    {
      "cell_type": "code",
      "source": [
        "data.to_excel(\"processed.ghw.xlsx\")"
      ],
      "metadata": {
        "id": "5gn0y01lsxe-"
      },
      "execution_count": null,
      "outputs": []
    },
    {
      "cell_type": "code",
      "source": [
        "!apt install python3-xlwt"
      ],
      "metadata": {
        "id": "HLRhIjWWs4yp"
      },
      "execution_count": null,
      "outputs": []
    },
    {
      "cell_type": "code",
      "source": [
        "data.to_excel(\"processed.ghw.xls\")"
      ],
      "metadata": {
        "id": "Xh4DssxRtBLl"
      },
      "execution_count": null,
      "outputs": []
    },
    {
      "cell_type": "code",
      "source": [
        "!head processed.ghw.csv"
      ],
      "metadata": {
        "id": "pqkZgoYGtJ7_"
      },
      "execution_count": null,
      "outputs": []
    },
    {
      "cell_type": "code",
      "source": [
        "pdata = pd.read_csv(\"processed.ghw.csv\")"
      ],
      "metadata": {
        "id": "fK5HmC62uUsb"
      },
      "execution_count": null,
      "outputs": []
    },
    {
      "cell_type": "code",
      "source": [
        "pdata"
      ],
      "metadata": {
        "id": "rC2uyTdTuhdn"
      },
      "execution_count": null,
      "outputs": []
    },
    {
      "cell_type": "code",
      "source": [
        "data.to_csv?"
      ],
      "metadata": {
        "id": "9w4vc8-Auju_"
      },
      "execution_count": null,
      "outputs": []
    },
    {
      "cell_type": "code",
      "source": [
        "data = pd.read_csv(\"pandas.demo.txt\")"
      ],
      "metadata": {
        "id": "GLUeex3KuqFq"
      },
      "execution_count": null,
      "outputs": []
    },
    {
      "cell_type": "code",
      "source": [
        "data"
      ],
      "metadata": {
        "id": "LUvewxB61KrZ"
      },
      "execution_count": null,
      "outputs": []
    },
    {
      "cell_type": "code",
      "source": [
        "data.Numeral"
      ],
      "metadata": {
        "id": "NecwGeoL1OaX"
      },
      "execution_count": null,
      "outputs": []
    },
    {
      "cell_type": "code",
      "source": [
        "data.Name"
      ],
      "metadata": {
        "id": "_VWKkQ3z1SOz"
      },
      "execution_count": null,
      "outputs": []
    },
    {
      "cell_type": "code",
      "source": [
        "data = pd.read_csv(\"pandas.demo.txt\", header=0, names=[\"Num\", \"Name\"])"
      ],
      "metadata": {
        "id": "R7iGkLDK1UMo"
      },
      "execution_count": null,
      "outputs": []
    },
    {
      "cell_type": "code",
      "source": [
        "data"
      ],
      "metadata": {
        "id": "ajeJstBH1o7E"
      },
      "execution_count": null,
      "outputs": []
    },
    {
      "cell_type": "code",
      "source": [
        "data = pd.read_csv(\"pandas.demo.txt\", header=1, names=[\"A\", \"B\"])"
      ],
      "metadata": {
        "id": "T8jhzuxQ1rPg"
      },
      "execution_count": null,
      "outputs": []
    },
    {
      "cell_type": "code",
      "source": [
        "data"
      ],
      "metadata": {
        "id": "kk_JScls2FX2"
      },
      "execution_count": null,
      "outputs": []
    },
    {
      "cell_type": "code",
      "source": [],
      "metadata": {
        "id": "CcXoikhi2gW9"
      },
      "execution_count": null,
      "outputs": []
    },
    {
      "cell_type": "code",
      "source": [
        "data = pd.read_csv(\"pandas.demo.txt\")"
      ],
      "metadata": {
        "id": "gyiMwzwm2kCO"
      },
      "execution_count": null,
      "outputs": []
    },
    {
      "cell_type": "code",
      "source": [
        "data"
      ],
      "metadata": {
        "id": "PNH6YsOR2w67"
      },
      "execution_count": null,
      "outputs": []
    },
    {
      "cell_type": "code",
      "source": [
        "data = pd.read_csv(\"pandas.demo.txt\", header=None)"
      ],
      "metadata": {
        "id": "jxYNIVhJ2xuA"
      },
      "execution_count": null,
      "outputs": []
    },
    {
      "cell_type": "code",
      "source": [
        "data"
      ],
      "metadata": {
        "id": "U2Rbjemp22kT"
      },
      "execution_count": null,
      "outputs": []
    },
    {
      "cell_type": "code",
      "source": [
        "data = pd.read_csv(\"pandas.demo.txt\", header=None,\n",
        "                   names=[\"Numerals\", \"Names\"])"
      ],
      "metadata": {
        "id": "WtewSJ5826dN"
      },
      "execution_count": null,
      "outputs": []
    },
    {
      "cell_type": "code",
      "source": [
        "data"
      ],
      "metadata": {
        "id": "b9gjtmeo3AZT"
      },
      "execution_count": null,
      "outputs": []
    },
    {
      "cell_type": "code",
      "source": [
        "data.Names"
      ],
      "metadata": {
        "id": "n5rh6tbj3BFT"
      },
      "execution_count": null,
      "outputs": []
    },
    {
      "cell_type": "code",
      "source": [
        "data[\"Numerals\"]"
      ],
      "metadata": {
        "id": "QfCtTw8y3DkY"
      },
      "execution_count": null,
      "outputs": []
    },
    {
      "cell_type": "code",
      "source": [
        "data = pd.read_csv(\"pandas.demo.txt\")"
      ],
      "metadata": {
        "id": "lSLCoga137Id"
      },
      "execution_count": null,
      "outputs": []
    },
    {
      "cell_type": "code",
      "source": [
        "data.Num"
      ],
      "metadata": {
        "id": "3g9fMuPt4Lvf"
      },
      "execution_count": null,
      "outputs": []
    },
    {
      "cell_type": "code",
      "source": [
        "data[\"Name of num\"]"
      ],
      "metadata": {
        "id": "c5NEogq_4N1j"
      },
      "execution_count": null,
      "outputs": []
    },
    {
      "cell_type": "code",
      "source": [
        "ghw = pd.read_csv(\"ghw.csv\",converters={\"Height\":in2cm, \"Weight\":lb2kg})"
      ],
      "metadata": {
        "id": "42JQ5-QS4QMO"
      },
      "execution_count": null,
      "outputs": []
    },
    {
      "cell_type": "code",
      "source": [
        "sum(data.Num)"
      ],
      "metadata": {
        "id": "MqHCetVJ4l3U"
      },
      "execution_count": null,
      "outputs": []
    },
    {
      "cell_type": "code",
      "source": [
        "ghw.describe()"
      ],
      "metadata": {
        "id": "oc-pbN5m406L"
      },
      "execution_count": null,
      "outputs": []
    },
    {
      "cell_type": "code",
      "source": [
        "men = ghw[ghw.Gender==\"Male\"]\n",
        "women = ghw[ghw.Gender==\"Female\"]"
      ],
      "metadata": {
        "id": "olv8gwHq48Nq"
      },
      "execution_count": null,
      "outputs": []
    },
    {
      "cell_type": "code",
      "source": [
        "men.describe()"
      ],
      "metadata": {
        "id": "PHaqbli55Sru"
      },
      "execution_count": null,
      "outputs": []
    },
    {
      "cell_type": "code",
      "source": [
        "women.describe()"
      ],
      "metadata": {
        "id": "v-Ug2bS15UbO"
      },
      "execution_count": null,
      "outputs": []
    },
    {
      "cell_type": "code",
      "source": [
        "tall = ghw[ghw.Height >= 175]"
      ],
      "metadata": {
        "id": "dTWuv9xC5VwY"
      },
      "execution_count": null,
      "outputs": []
    },
    {
      "cell_type": "code",
      "source": [
        "tall.describe()"
      ],
      "metadata": {
        "id": "u1-5OPI25pfo"
      },
      "execution_count": null,
      "outputs": []
    },
    {
      "cell_type": "code",
      "source": [
        "pd.read"
      ],
      "metadata": {
        "id": "hhU5Y4NV5r0Z"
      },
      "execution_count": null,
      "outputs": []
    },
    {
      "cell_type": "code",
      "source": [
        "tallmen = ghw[(ghw.Gender == \"Male\") & (ghw.Height >= 175)]"
      ],
      "metadata": {
        "id": "bVQsDBIh6udn"
      },
      "execution_count": null,
      "outputs": []
    },
    {
      "cell_type": "code",
      "source": [
        "tallmen.describe()"
      ],
      "metadata": {
        "id": "o0oaJE3L7jAA"
      },
      "execution_count": null,
      "outputs": []
    },
    {
      "cell_type": "code",
      "source": [
        "ghw.Height.describe()"
      ],
      "metadata": {
        "id": "nUOS_pUK7sBz"
      },
      "execution_count": null,
      "outputs": []
    },
    {
      "cell_type": "code",
      "source": [
        "ghw.Height.describe()[\"max\"]"
      ],
      "metadata": {
        "id": "IGOEtgl58Gt-"
      },
      "execution_count": null,
      "outputs": []
    },
    {
      "cell_type": "code",
      "source": [
        "a1 = ghw[(ghw.Gender==\"Male\") & (ghw.Height == ghw.Height.describe()[\"max\"])]"
      ],
      "metadata": {
        "id": "Uu-sFshF8Llk"
      },
      "execution_count": null,
      "outputs": []
    },
    {
      "cell_type": "code",
      "source": [
        "a1"
      ],
      "metadata": {
        "id": "Hsq2xk608dHK"
      },
      "execution_count": null,
      "outputs": []
    },
    {
      "cell_type": "code",
      "source": [
        "a2 = women[women.Height == women.Height.describe()[\"max\"]]"
      ],
      "metadata": {
        "id": "Z09VJ6EK9f05"
      },
      "execution_count": null,
      "outputs": []
    },
    {
      "cell_type": "code",
      "source": [
        "a2"
      ],
      "metadata": {
        "id": "qleDqM-1_JbO"
      },
      "execution_count": null,
      "outputs": []
    },
    {
      "cell_type": "markdown",
      "source": [
        "# Matplotlib"
      ],
      "metadata": {
        "id": "4MNqTqk88d-K"
      }
    },
    {
      "cell_type": "code",
      "source": [
        "import matplotlib.pyplot as plt"
      ],
      "metadata": {
        "id": "Geoo7lmT_KM_"
      },
      "execution_count": null,
      "outputs": []
    },
    {
      "cell_type": "code",
      "source": [
        "plt.plot(ghw.Height, ghw.Weight, \"r.\")\n",
        "plt.show()"
      ],
      "metadata": {
        "id": "m9eoz50B_w4z"
      },
      "execution_count": null,
      "outputs": []
    },
    {
      "cell_type": "code",
      "source": [
        "plt.plot(ghw.Height, ghw.Weight, \"b+\")\n",
        "plt.xlabel(\"Height (cm)\")\n",
        "plt.ylabel(\"Weight (kg)\")\n",
        "plt.show()"
      ],
      "metadata": {
        "id": "beQ-LnLr_5sv"
      },
      "execution_count": null,
      "outputs": []
    },
    {
      "cell_type": "code",
      "source": [
        "plt.plot(men.Height, men.Weight, \"b+\")\n",
        "plt.plot(women.Height, women.Weight, \"r*\")\n",
        "plt.xlabel(\"Height (cm)\")\n",
        "plt.ylabel(\"Weight (kg)\")\n",
        "plt.show()"
      ],
      "metadata": {
        "id": "Bo_Nr-bfAJuN"
      },
      "execution_count": null,
      "outputs": []
    },
    {
      "cell_type": "markdown",
      "source": [
        "# NumPy"
      ],
      "metadata": {
        "id": "3iYjXyqLA2Zl"
      }
    },
    {
      "cell_type": "markdown",
      "source": [
        "# Fast array handling"
      ],
      "metadata": {
        "id": "EioWZQFqHK2q"
      }
    },
    {
      "cell_type": "code",
      "source": [
        "import numpy as np"
      ],
      "metadata": {
        "id": "BWRFOffBeigE"
      },
      "execution_count": null,
      "outputs": []
    },
    {
      "cell_type": "code",
      "source": [
        "alist = [1, 2, 3]"
      ],
      "metadata": {
        "id": "Shghf1WmezSo"
      },
      "execution_count": null,
      "outputs": []
    },
    {
      "cell_type": "code",
      "source": [
        "a = np.array(alist)"
      ],
      "metadata": {
        "id": "2o8BwQ6ke-2v"
      },
      "execution_count": null,
      "outputs": []
    },
    {
      "cell_type": "code",
      "source": [
        "a"
      ],
      "metadata": {
        "id": "6hKF36MnfBtv"
      },
      "execution_count": null,
      "outputs": []
    },
    {
      "cell_type": "code",
      "source": [
        "b = np.array([[1, 2, 3], [0, -1, 5], [7, -3, 6]])"
      ],
      "metadata": {
        "id": "7B1ljKerfCvC"
      },
      "execution_count": null,
      "outputs": []
    },
    {
      "cell_type": "code",
      "source": [
        "b"
      ],
      "metadata": {
        "id": "K6ih90FTfQ2c"
      },
      "execution_count": null,
      "outputs": []
    },
    {
      "cell_type": "code",
      "source": [
        "a + 2"
      ],
      "metadata": {
        "id": "Z-i0zDStfRmn"
      },
      "execution_count": null,
      "outputs": []
    },
    {
      "cell_type": "code",
      "source": [
        "(a * 3) - 1"
      ],
      "metadata": {
        "id": "CoM-Rc2nfa1R"
      },
      "execution_count": null,
      "outputs": []
    },
    {
      "cell_type": "code",
      "source": [
        "a1 = np.array([2, 7, -1])"
      ],
      "metadata": {
        "id": "MLYB5-M0fhD2"
      },
      "execution_count": null,
      "outputs": []
    },
    {
      "cell_type": "code",
      "source": [
        "a2 = a * 3 - 1"
      ],
      "metadata": {
        "id": "CHgUNF3NfxZ0"
      },
      "execution_count": null,
      "outputs": []
    },
    {
      "cell_type": "code",
      "source": [
        "print(a1)"
      ],
      "metadata": {
        "id": "OC1YOuGVfzTT"
      },
      "execution_count": null,
      "outputs": []
    },
    {
      "cell_type": "code",
      "source": [
        "print(a2)"
      ],
      "metadata": {
        "id": "Wdb2MkrGf0ew"
      },
      "execution_count": null,
      "outputs": []
    },
    {
      "cell_type": "code",
      "source": [
        "a1 + a2"
      ],
      "metadata": {
        "id": "Ohk5HRemf1he"
      },
      "execution_count": null,
      "outputs": []
    },
    {
      "cell_type": "code",
      "source": [
        "a1 * a2"
      ],
      "metadata": {
        "id": "d_3OTkW7f_l1"
      },
      "execution_count": null,
      "outputs": []
    },
    {
      "cell_type": "code",
      "source": [
        "a1.T"
      ],
      "metadata": {
        "id": "1_0nRGtkgAqC"
      },
      "execution_count": null,
      "outputs": []
    },
    {
      "cell_type": "code",
      "source": [
        "(a1.T)@a2"
      ],
      "metadata": {
        "id": "d4kWVHvfgEgB"
      },
      "execution_count": null,
      "outputs": []
    },
    {
      "cell_type": "code",
      "source": [
        "a1@(a2.T)"
      ],
      "metadata": {
        "id": "05cH4W8pgHjI"
      },
      "execution_count": null,
      "outputs": []
    },
    {
      "cell_type": "code",
      "source": [
        "a1@a2"
      ],
      "metadata": {
        "id": "k0Gp_a65gKrM"
      },
      "execution_count": null,
      "outputs": []
    },
    {
      "cell_type": "code",
      "source": [
        "print(b)"
      ],
      "metadata": {
        "id": "I_fShoLmgMvJ"
      },
      "execution_count": null,
      "outputs": []
    },
    {
      "cell_type": "code",
      "source": [
        "b + 1"
      ],
      "metadata": {
        "id": "K22uEimVgYYE"
      },
      "execution_count": null,
      "outputs": []
    },
    {
      "cell_type": "code",
      "source": [
        "b * 2"
      ],
      "metadata": {
        "id": "dqRTuTLHgZpV"
      },
      "execution_count": null,
      "outputs": []
    },
    {
      "cell_type": "code",
      "source": [
        "a @ b"
      ],
      "metadata": {
        "id": "pG47MXqFgbUX"
      },
      "execution_count": null,
      "outputs": []
    },
    {
      "cell_type": "code",
      "source": [
        "b @ a"
      ],
      "metadata": {
        "id": "Rf75yzrQgc9z"
      },
      "execution_count": null,
      "outputs": []
    },
    {
      "cell_type": "code",
      "source": [
        "b.T"
      ],
      "metadata": {
        "id": "jjN48CXMgeVZ"
      },
      "execution_count": null,
      "outputs": []
    },
    {
      "cell_type": "code",
      "source": [
        "b"
      ],
      "metadata": {
        "id": "kYZYrI8fgp4r"
      },
      "execution_count": null,
      "outputs": []
    },
    {
      "cell_type": "code",
      "source": [
        "b @ (b.T)"
      ],
      "metadata": {
        "id": "hclpfA03gqyD"
      },
      "execution_count": null,
      "outputs": []
    },
    {
      "cell_type": "code",
      "source": [
        "b.size"
      ],
      "metadata": {
        "id": "UTVbMWfGgtbu"
      },
      "execution_count": null,
      "outputs": []
    },
    {
      "cell_type": "code",
      "source": [
        "b.ndim"
      ],
      "metadata": {
        "id": "6BYOkob9g7Rc"
      },
      "execution_count": null,
      "outputs": []
    },
    {
      "cell_type": "code",
      "source": [
        "b.shape"
      ],
      "metadata": {
        "id": "7698JlVCg9q9"
      },
      "execution_count": null,
      "outputs": []
    },
    {
      "cell_type": "code",
      "source": [
        "a.ndim"
      ],
      "metadata": {
        "id": "8o8vPfzshDrZ"
      },
      "execution_count": null,
      "outputs": []
    },
    {
      "cell_type": "code",
      "source": [
        "a.size"
      ],
      "metadata": {
        "id": "OY588LGShOgW"
      },
      "execution_count": null,
      "outputs": []
    },
    {
      "cell_type": "code",
      "source": [
        "a.shape"
      ],
      "metadata": {
        "id": "vzrjQNwchP1L"
      },
      "execution_count": null,
      "outputs": []
    },
    {
      "cell_type": "code",
      "source": [
        "c = np.array([[1, 2, 3], [4, 5, 6]])"
      ],
      "metadata": {
        "id": "lmb4K0jEhQpu"
      },
      "execution_count": null,
      "outputs": []
    },
    {
      "cell_type": "code",
      "source": [
        "print(c)"
      ],
      "metadata": {
        "id": "3VjIQAh-hZwJ"
      },
      "execution_count": null,
      "outputs": []
    },
    {
      "cell_type": "code",
      "source": [
        "print(c.T)"
      ],
      "metadata": {
        "id": "CVs215pIhcxi"
      },
      "execution_count": null,
      "outputs": []
    },
    {
      "cell_type": "code",
      "source": [
        "c.shape"
      ],
      "metadata": {
        "id": "Tf3JpG2KhebB"
      },
      "execution_count": null,
      "outputs": []
    },
    {
      "cell_type": "code",
      "source": [
        "d = c.reshape(3, 2)"
      ],
      "metadata": {
        "id": "b_bCZbwihk_-"
      },
      "execution_count": null,
      "outputs": []
    },
    {
      "cell_type": "code",
      "source": [
        "print(d)"
      ],
      "metadata": {
        "id": "68DhBzGEhnr1"
      },
      "execution_count": null,
      "outputs": []
    },
    {
      "cell_type": "code",
      "source": [
        "np.arange?"
      ],
      "metadata": {
        "id": "UwZCTI5vhoqd"
      },
      "execution_count": null,
      "outputs": []
    },
    {
      "cell_type": "code",
      "source": [
        "r1 = np.arange(2.0, 5.0, 0.2)"
      ],
      "metadata": {
        "id": "kSkpsPUHhy-i"
      },
      "execution_count": null,
      "outputs": []
    },
    {
      "cell_type": "code",
      "source": [
        "print(r1)"
      ],
      "metadata": {
        "id": "s8H-C2-BiG9h"
      },
      "execution_count": null,
      "outputs": []
    },
    {
      "cell_type": "code",
      "source": [
        "r1"
      ],
      "metadata": {
        "id": "3xEE9mhniIq1"
      },
      "execution_count": null,
      "outputs": []
    },
    {
      "cell_type": "code",
      "source": [
        "r2 = np.linspace(2.0, 5.0, 15)"
      ],
      "metadata": {
        "id": "YG8hnlZHiMHB"
      },
      "execution_count": null,
      "outputs": []
    },
    {
      "cell_type": "code",
      "source": [
        "r3 = np.linspace(1, 2, 9)\n",
        "print(r3)"
      ],
      "metadata": {
        "id": "uRVG4srilCj_"
      },
      "execution_count": null,
      "outputs": []
    },
    {
      "cell_type": "code",
      "source": [
        "r2"
      ],
      "metadata": {
        "id": "fE3mAkP0iVd7"
      },
      "execution_count": null,
      "outputs": []
    },
    {
      "cell_type": "code",
      "source": [
        "np.zeros?"
      ],
      "metadata": {
        "id": "9eckS9bbiXKE"
      },
      "execution_count": null,
      "outputs": []
    },
    {
      "cell_type": "code",
      "source": [
        "np.zeros(6)"
      ],
      "metadata": {
        "id": "QpgPbqPxiws5"
      },
      "execution_count": null,
      "outputs": []
    },
    {
      "cell_type": "code",
      "source": [
        "np.ones(5)"
      ],
      "metadata": {
        "id": "3QB2GWAYi2kC"
      },
      "execution_count": null,
      "outputs": []
    },
    {
      "cell_type": "code",
      "source": [
        "np.zeros_like(b)"
      ],
      "metadata": {
        "id": "YlzmAkESi4Tl"
      },
      "execution_count": null,
      "outputs": []
    },
    {
      "cell_type": "code",
      "source": [
        "np.ones_like(d)"
      ],
      "metadata": {
        "id": "qiBV5zkRi6Yb"
      },
      "execution_count": null,
      "outputs": []
    },
    {
      "cell_type": "code",
      "source": [
        "np.pi"
      ],
      "metadata": {
        "id": "b9QSzvQLi9eH"
      },
      "execution_count": null,
      "outputs": []
    },
    {
      "cell_type": "code",
      "source": [
        "np.linspace?"
      ],
      "metadata": {
        "id": "OLqPhOMUjeBc"
      },
      "execution_count": null,
      "outputs": []
    },
    {
      "cell_type": "markdown",
      "source": [
        "# SciPy"
      ],
      "metadata": {
        "id": "Bo7kKRO8kFyx"
      }
    },
    {
      "cell_type": "code",
      "source": [
        "import scipy.linalg as la"
      ],
      "metadata": {
        "id": "WXcXDmmfk9n9"
      },
      "execution_count": null,
      "outputs": []
    },
    {
      "cell_type": "code",
      "source": [
        "la.inv(b)"
      ],
      "metadata": {
        "id": "yalxDQ8Uq6aS"
      },
      "execution_count": null,
      "outputs": []
    },
    {
      "cell_type": "code",
      "source": [
        "print(b)"
      ],
      "metadata": {
        "id": "eH6V72VLq8rJ"
      },
      "execution_count": null,
      "outputs": []
    },
    {
      "cell_type": "markdown",
      "source": [
        "# Scikit Learn"
      ],
      "metadata": {
        "id": "ZeOJfG0xq-bb"
      }
    },
    {
      "cell_type": "code",
      "source": [
        "import pygraphviz as pg"
      ],
      "metadata": {
        "id": "g2XJXGqitmGP"
      },
      "execution_count": null,
      "outputs": []
    },
    {
      "cell_type": "code",
      "source": [
        "import graphviz as gv"
      ],
      "metadata": {
        "id": "5xnlyjN7xZ4V"
      },
      "execution_count": null,
      "outputs": []
    },
    {
      "cell_type": "code",
      "source": [],
      "metadata": {
        "id": "WuAAN-WsxnTG"
      },
      "execution_count": null,
      "outputs": []
    },
    {
      "cell_type": "markdown",
      "source": [
        "# Tomorrow's agenda\n",
        "## Regex\n",
        "## generators, yield\n",
        "## decorators\n",
        "## Problems/Doubts/Discussions\n",
        "## Exception handling\n",
        "## API -\n",
        "## Lambda\n",
        "\n",
        "## Text Processing in Linux"
      ],
      "metadata": {
        "id": "_EDuKIsQy1kQ"
      }
    },
    {
      "cell_type": "code",
      "source": [],
      "metadata": {
        "id": "vkV5soU8zIA1"
      },
      "execution_count": null,
      "outputs": []
    }
  ]
}